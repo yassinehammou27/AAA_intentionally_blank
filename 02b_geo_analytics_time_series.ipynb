{
 "cells": [
  {
   "attachments": {},
   "cell_type": "markdown",
   "metadata": {},
   "source": [
    "# Geo analytics AAA time series - Intentionally Blank"
   ]
  },
  {
   "cell_type": "markdown",
   "metadata": {},
   "source": [
    "The census tract borders and the points of interest data were sourced from the following sites:\n",
    "- census tract borders: https://www.census.gov/cgi-bin/geo/shapefiles/index.php?year=2016&layergroup=Census+Tracts\n",
    "- points of interest data: https://overpass-turbo.eu/s/1yIY\n",
    "There is no need to manually download the files. Both files should be already in the data folder provided be the previously mentioned sciebo link.\n",
    "The notebook is split into two parts. This notebook visualizes static non time dependend census tract and hexagon bin data while the second notebook visualizes different temporal bin sizes."
   ]
  },
  {
   "cell_type": "markdown",
   "metadata": {},
   "source": [
    "**Dependencies needed for this notebook:**\n",
    "- Pandas\n",
    "- Numpy\n",
    "- H3-py (*conda install -c conda-forge h3-py*)\n",
    "- Geopandas (*conda install -c conda-forge geopandas*)\n",
    "  - Shapely (*conda install -c conda-forge shapely*)\n",
    "- Pyarrow (*conda install pyarrow*)\n",
    "  - Needed for reading the taxi dataset from the parquet file\n",
    "- Plotly (*conda install -c plotly plotly=5.16.0*)"
   ]
  },
  {
   "cell_type": "code",
   "execution_count": null,
   "metadata": {},
   "outputs": [],
   "source": [
    "import json\n",
    "\n",
    "import pandas as pd\n",
    "import numpy as np\n",
    "\n",
    "import h3\n",
    "import geopandas as gpd\n",
    "import shapely\n",
    "from shapely.geometry import shape\n",
    "import plotly.express as px\n",
    "import plotly.io as pio\n",
    "pio.renderers.default = 'iframe_connected'"
   ]
  },
  {
   "cell_type": "markdown",
   "metadata": {},
   "source": [
    "## Imports and preparation"
   ]
  },
  {
   "cell_type": "markdown",
   "metadata": {},
   "source": [
    "First we import the needed files for the analysis."
   ]
  },
  {
   "cell_type": "code",
   "execution_count": null,
   "metadata": {},
   "outputs": [],
   "source": [
    "# Read taxi data and census tract borders\n",
    "taxi_df = pd.read_parquet('data/prepared/taxi_data_prepared.gzip')\n",
    "census_tract_borders = gpd.read_file('data/chicago_census_tract_borders.zip')"
   ]
  },
  {
   "cell_type": "markdown",
   "metadata": {},
   "source": [
    "Afterwards we do some small preparation steps needed for later use."
   ]
  },
  {
   "cell_type": "code",
   "execution_count": null,
   "metadata": {},
   "outputs": [],
   "source": [
    "# Change pickup and dropoff location to geopandas geometry objects\n",
    "taxi_df['pickup_centroid_location'] = gpd.GeoSeries.from_wkt(taxi_df['pickup_centroid_location'])\n",
    "taxi_df['dropoff_centroid_location'] = gpd.GeoSeries.from_wkt(taxi_df['dropoff_centroid_location'])\n",
    "\n",
    "# Drop columns that are not needed for the analysis\n",
    "census_tract_borders = census_tract_borders.drop(census_tract_borders.columns.difference(['GEOID', 'geometry']), axis=1)\n",
    "\n",
    "# Get all unique census tract ids from the taxi data and filter the census tract borders to only include those\n",
    "unique_census_tract_id = np.append(taxi_df['pickup_census_tract'].unique(), taxi_df['dropoff_census_tract'].unique()).astype('str')\n",
    "census_tract_borders= census_tract_borders[census_tract_borders['GEOID'].isin(unique_census_tract_id)].reset_index(drop=True)"
   ]
  },
  {
   "cell_type": "markdown",
   "metadata": {},
   "source": [
    "## Helper Functions"
   ]
  },
  {
   "cell_type": "markdown",
   "metadata": {},
   "source": [
    "The following helper function is similar to the previous helper functions for the census tract borders and the hexagon bins from the first part of the geo analysis. The main difference is that in addition to the location the data is also grouped by the specified time interval."
   ]
  },
  {
   "cell_type": "code",
   "execution_count": null,
   "metadata": {},
   "outputs": [],
   "source": [
    "def plotByFeatureTime(dataframe, location='pickup', feature='all', aggregation='sum', time_interval='hour', start_time = True):\n",
    "    \"\"\" Filter a feature or all features of a dataframe. Furthermore aggregate the data by location and feature and group by location and time_interval.\n",
    "\n",
    "    Parameters\n",
    "    ----------\n",
    "\n",
    "    dataframe :  (pandas.DataFrame) \n",
    "        The dataframe to plot.\n",
    "    location : (str) \n",
    "        The location column of the dataframe. Can be either 'pickup' or 'dropoff'. Default is 'pickup'.\n",
    "    feature : (str) \n",
    "        The feature to aggregate. If 'all', all features are aggregated. Default is 'all'\n",
    "    aggregation : (str)  \n",
    "        The aggregation function to use. Can be either 'mean', 'median', 'sum', 'count', 'min', 'max'. Default is 'sum'.\n",
    "    time_interval : (str)\n",
    "        The time interval to group by. Can be either 'hour', 'month' or 'weekday'. Default is 'hour'.\n",
    "    missingCensusTract : (bool)\n",
    "        If True, census tracts with no data are included in the plot. Default is False.\n",
    "\n",
    "    Returns\n",
    "    ----------\n",
    "\n",
    "    dataframe_grouped : (geopandas.GeoDataFrame) \n",
    "        The geodataframe grouped by the location column and the feature column. Contains always a geometry column and trip_count column.\n",
    "    \"\"\"\n",
    "    dataframe_grouped = dataframe.copy()\n",
    "    dataframe_grouped.dropna(inplace = True)\n",
    "    if feature == 'all':\n",
    "        features = dataframe_grouped.columns.difference(['pickup_census_tract', 'dropoff_census_tract', 'pickup_centroid_location', 'dropoff_centroid_location']).tolist()\n",
    "    else:\n",
    "        features = [feature]\n",
    "    \n",
    "    if location == 'pickup':\n",
    "        features.append('pickup_census_tract')\n",
    "        features.append('pickup_centroid_location')\n",
    "        dataframe_grouped = dataframe_grouped.drop(columns=['dropoff_census_tract', 'dropoff_centroid_location'])\n",
    "    elif location == 'dropoff':\n",
    "        features.append('dropoff_census_tract')\n",
    "        features.append('dropoff_centroid_location')\n",
    "        dataframe_grouped = dataframe_grouped.drop(columns=['pickup_census_tract', 'pickup_centroid_location'])\n",
    "    else:\n",
    "        raise ValueError(\"Location must be either 'pickup' or 'dropoff'.\")\n",
    "\n",
    "    if start_time == True:\n",
    "        dataframe_grouped.rename(columns={'trip_start_timestamp': 'timestamp'}, inplace=True)\n",
    "        dataframe_grouped.drop(columns=['trip_end_timestamp'], inplace=True)\n",
    "    else:\n",
    "        dataframe_grouped.rename(columns={'trip_end_timestamp': 'timestamp'}, inplace=True)\n",
    "        dataframe_grouped.drop(columns=['trip_start_timestamp'], inplace=True)\n",
    "    features[0]='timestamp'\n",
    "    if time_interval == 'hour':\n",
    "        dataframe_grouped[\"hour\"] = dataframe_grouped['timestamp'].dt.hour\n",
    "        dataframe_grouped.rename(columns={'timestamp': 'trip_count'}, inplace=True)\n",
    "        dataframe_grouped = dataframe_grouped.groupby([location + '_census_tract', location + '_centroid_location', 'hour']).agg(lambda column: column.agg('count') if column.name == 'trip_count' else column.agg(aggregation)).reset_index()\n",
    "    elif time_interval == 'month':\n",
    "        dataframe_grouped[\"month\"] = dataframe_grouped['timestamp'].dt.month\n",
    "        dataframe_grouped.rename(columns={'timestamp': 'trip_count'}, inplace=True)\n",
    "        dataframe_grouped = dataframe_grouped.groupby([location + '_census_tract', location + '_centroid_location', 'month']).agg(lambda column: column.agg('count') if column.name == 'trip_count' else column.agg(aggregation)).reset_index()\n",
    "    elif time_interval == 'weekday':\n",
    "        dataframe_grouped[\"weekday\"] = dataframe_grouped['timestamp'].dt.weekday\n",
    "        dataframe_grouped.rename(columns={'timestamp': 'trip_count'}, inplace=True)\n",
    "        dataframe_grouped = dataframe_grouped.groupby([location + '_census_tract', location + '_centroid_location', 'weekday']).agg(lambda column: column.agg('count') if column.name == 'trip_count' else column.agg(aggregation)).reset_index()\n",
    "    dataframe_grouped[\"trip_count\"] =dataframe_grouped[\"trip_count\"].astype(\"int32\")\n",
    "    dataframe_grouped = dataframe_grouped.rename(columns={location + '_census_tract': 'GEOID'})\n",
    "    dataframe_grouped['GEOID'] = dataframe_grouped['GEOID'].astype('str')\n",
    "    dataframe_grouped = dataframe_grouped.merge(census_tract_borders, on='GEOID', how='left')\n",
    "    dataframe_grouped = gpd.GeoDataFrame(dataframe_grouped)\n",
    "    dataframe_grouped.sort_values(by=[time_interval], inplace=True)\n",
    "    return dataframe_grouped"
   ]
  },
  {
   "cell_type": "code",
   "execution_count": null,
   "metadata": {},
   "outputs": [],
   "source": [
    "def plotH3_HexagonMapInteractive(dataframe, location='pickup', feature='all', aggregation='sum', hexRes = 10, time_interval='hour'):\n",
    "    \"\"\" Plot a feature of a dataframe on a map.\n",
    "\n",
    "    Parameters\n",
    "    ----------\n",
    "\n",
    "    dataframe :  (pandas.DataFrame) \n",
    "        The dataframe to plot.\n",
    "    location : (str) \n",
    "        The location column of the dataframe. Can be either 'pickup' or 'dropoff'. Default is 'pickup'.\n",
    "    feature : (str) \n",
    "        The feature to aggregate. If 'all', all features are aggregated. Default is 'all'\n",
    "    aggregation : (str)  \n",
    "        The aggregation function to use. Can be either 'mean', 'median', 'sum', 'count', 'min', 'max'. Default is 'sum'.\n",
    "    containMissingCensusTract : (bool)\n",
    "        If True, census tracts with no data are included in the plot. Default is False.\n",
    "    hexRes : (int)\n",
    "        H3 hexagon resolution size. Default is 10.\n",
    "    Returns\n",
    "    ----------\n",
    "\n",
    "    taxi_df_geo_grouped : (geopandas.GeoDataFrame) \n",
    "        The geodataframe grouped by the location column and the feature column. Contains always a geometry column and trip_count column.\n",
    "    \"\"\"\n",
    "    taxi_df_geo = plotByFeatureTime(dataframe, location= location,feature = feature, aggregation = aggregation, time_interval=time_interval)\n",
    "    # geometry to h3 index\n",
    "    taxi_df_geo['h3_index'] = taxi_df_geo.apply(lambda row: h3.geo_to_h3(row[location + '_centroid_location'].y, row[location + '_centroid_location'].x, hexRes), axis=1)\n",
    "\n",
    "    geojson = []\n",
    "    geometries = []\n",
    "    indexes = []\n",
    "\n",
    "    for geometry in taxi_df_geo['geometry']:\n",
    "        geojson.append(shapely.to_geojson(geometry))\n",
    "\n",
    "    for geometry in geojson:\n",
    "        obj = json.loads(geometry)\n",
    "        h3_indexes = h3.polyfill(obj, hexRes ,True)\n",
    "        for index in h3_indexes:\n",
    "            geometries.append(shape({\"type\": \"Polygon\",\n",
    "                    \"coordinates\": [h3.h3_to_geo_boundary(index, geo_json=True)],\n",
    "                    \"properties\": \"\"\n",
    "                    }))\n",
    "            indexes.append(index)   \n",
    "    if location == \"pickup\":\n",
    "        taxi_df_geo.drop(columns= ['geometry', 'pickup_centroid_location', 'GEOID'], inplace = True)\n",
    "    else:\n",
    "        taxi_df_geo.drop(columns= ['geometry', 'dropoff_centroid_location', 'GEOID'], inplace = True)\n",
    "    df_h3_polyfilled = pd.DataFrame({'h3_index': indexes})\n",
    "    taxi_df_geo_grouped = taxi_df_geo.groupby(['h3_index', time_interval]).agg(aggregation).reset_index()\n",
    "    taxi_df_geo_grouped = taxi_df_geo_grouped.merge(df_h3_polyfilled, on='h3_index', how='outer')\n",
    "    taxi_df_geo_grouped['geometry'] = taxi_df_geo_grouped.apply(lambda row: shape({\"type\": \"Polygon\",\n",
    "                                           \"coordinates\": [h3.h3_to_geo_boundary(row[\"h3_index\"], geo_json=True)],\n",
    "                                           \"properties\": \"\"\n",
    "                                           }), axis=1)\n",
    "    taxi_df_geo_grouped = gpd.GeoDataFrame(taxi_df_geo_grouped, crs='EPSG:4326', geometry='geometry')\n",
    "    taxi_df_geo_grouped.sort_values(by=[time_interval], inplace=True)\n",
    "    return taxi_df_geo_grouped"
   ]
  },
  {
   "cell_type": "markdown",
   "metadata": {},
   "source": [
    "## Analysis of the hourly time intervals"
   ]
  },
  {
   "cell_type": "markdown",
   "metadata": {},
   "source": [
    "First we plot the trip count for the dropoff location and pickup location next to each other. To compare time dependent patterns between both plots and analysing correlations between the two. The animation feature allowed us to observe how taxi demand evolves throughout the day or over the course of the year."
   ]
  },
  {
   "cell_type": "code",
   "execution_count": null,
   "metadata": {},
   "outputs": [],
   "source": [
    "interactive_Plot_Pickup_hourly = plotByFeatureTime(taxi_df, location='pickup', feature='all', aggregation='sum', time_interval='hour', start_time = True)"
   ]
  },
  {
   "cell_type": "code",
   "execution_count": null,
   "metadata": {},
   "outputs": [],
   "source": [
    "interactive_Plot_Dropoff_hourly = plotByFeatureTime(taxi_df, location='dropoff', feature='all', aggregation='sum', time_interval='hour', start_time = True)"
   ]
  },
  {
   "cell_type": "code",
   "execution_count": null,
   "metadata": {},
   "outputs": [],
   "source": [
    "viridis = px.colors.sequential.Viridis\n",
    "fig = px.choropleth_mapbox(interactive_Plot_Pickup_hourly,\n",
    "                        geojson=interactive_Plot_Pickup_hourly[['GEOID', 'geometry']].drop_duplicates(subset=['GEOID']), \n",
    "                        locations=interactive_Plot_Pickup_hourly.GEOID,\n",
    "                        featureidkey=\"properties.GEOID\",\n",
    "                        color='trip_count',\n",
    "                        animation_frame='hour',\n",
    "                        mapbox_style='open-street-map', \n",
    "                        zoom=9.5,\n",
    "                        color_continuous_scale=[\n",
    "                            [0, viridis[0]],\n",
    "                            [1./1000000, viridis[2]],\n",
    "                            [1./10000, viridis[4]],\n",
    "                            [1./100, viridis[7]],\n",
    "                            [1., viridis[9]],\n",
    "                        ],\n",
    "                        opacity=0.5, \n",
    "                        range_color=[0, 300000],\n",
    "                        center={'lat': 41.84, 'lon': -87.723177},\n",
    "                        labels={'trip_count':'trip_count'},\n",
    "                        width=1000,\n",
    "                        height=1000)\n",
    "fig.update_layout(title_text='Trip count by pickup location for each hour of day - Census tract borders', title_x=0.5)\n",
    "fig.show()\n",
    "fig = px.choropleth_mapbox(interactive_Plot_Dropoff_hourly,\n",
    "                        geojson=interactive_Plot_Dropoff_hourly[['GEOID', 'geometry']].drop_duplicates(subset=['GEOID']), \n",
    "                        locations=interactive_Plot_Dropoff_hourly.GEOID,\n",
    "                        featureidkey=\"properties.GEOID\",\n",
    "                        color='trip_count',\n",
    "                        animation_frame='hour',\n",
    "                        mapbox_style='open-street-map', \n",
    "                        zoom=9.5,\n",
    "                        color_continuous_scale=[\n",
    "                            [0, viridis[0]],\n",
    "                            [1./1000000, viridis[2]],\n",
    "                            [1./10000, viridis[4]],\n",
    "                            [1./100, viridis[7]],\n",
    "                            [1., viridis[9]],\n",
    "                        ],\n",
    "                        opacity=0.5, \n",
    "                        range_color=[0, 300000],\n",
    "                        center={'lat': 41.84, 'lon': -87.723177},\n",
    "                        labels={'trip_count':'trip_count'},\n",
    "                        width=1000,\n",
    "                        height=1000)\n",
    "fig.update_layout(title_text='Trip count by dropoff location for each hour of day - Census tract borders', title_x=0.5)\n",
    "fig.show()"
   ]
  },
  {
   "cell_type": "markdown",
   "metadata": {},
   "source": [
    "Looking at the map with the census tracts, we can observe that at all times the trip count is highest near the center but it is difficult to compare the pickup and dropoff trip count and the difference between different times. Because the shapes are not uniform and of the same size it is difficult to observe more without making misinterpretations. We will look at the data grouped by hexagon bins of a lower and higher resolution to gain more insights."
   ]
  },
  {
   "cell_type": "code",
   "execution_count": null,
   "metadata": {},
   "outputs": [],
   "source": [
    "interactive_Plot_Pickup_hexRes8_hour = plotH3_HexagonMapInteractive(taxi_df, location='pickup', feature='all', aggregation='sum', time_interval='hour', hexRes=8)"
   ]
  },
  {
   "cell_type": "code",
   "execution_count": null,
   "metadata": {},
   "outputs": [],
   "source": [
    "interactive_Plot_Dropoff_hexRes8_hour = plotH3_HexagonMapInteractive(taxi_df, location='dropoff', feature='all', aggregation='sum', time_interval='hour', hexRes=8)"
   ]
  },
  {
   "cell_type": "code",
   "execution_count": null,
   "metadata": {},
   "outputs": [],
   "source": [
    "fig = px.choropleth_mapbox(interactive_Plot_Pickup_hexRes8_hour,\n",
    "                        geojson=interactive_Plot_Pickup_hexRes8_hour[['h3_index', 'geometry']].drop_duplicates(subset=['h3_index']), \n",
    "                        locations=interactive_Plot_Pickup_hexRes8_hour.h3_index,\n",
    "                        featureidkey=\"properties.h3_index\",\n",
    "                        color='trip_count',\n",
    "                        animation_frame='hour',\n",
    "                        mapbox_style='open-street-map', \n",
    "                        zoom=9.5,\n",
    "                        color_continuous_scale=[\n",
    "                            [0, viridis[0]],\n",
    "                            [1./1000000, viridis[2]],\n",
    "                            [1./10000, viridis[4]],\n",
    "                            [1./100, viridis[7]],\n",
    "                            [1., viridis[9]],\n",
    "                        ],\n",
    "                        opacity=0.5, \n",
    "                        range_color=[0, 300000],\n",
    "                        center={'lat': 41.84, 'lon': -87.723177},\n",
    "                        labels={'trip_count':'trip_count'},\n",
    "                        width=1000,\n",
    "                        height=1000)\n",
    "fig.update_layout(title_text='Trip count by pickup location for each hour of day - Hexagon resolution 8 borders', title_x=0.5)\n",
    "fig.show()\n",
    "\n",
    "fig = px.choropleth_mapbox(interactive_Plot_Dropoff_hexRes8_hour,\n",
    "                        geojson=interactive_Plot_Dropoff_hexRes8_hour[['h3_index', 'geometry']].drop_duplicates(subset=['h3_index']), \n",
    "                        locations=interactive_Plot_Dropoff_hexRes8_hour.h3_index,\n",
    "                        featureidkey=\"properties.h3_index\",\n",
    "                        color='trip_count',\n",
    "                        animation_frame='hour',\n",
    "                        mapbox_style='open-street-map', \n",
    "                        zoom=9.5,\n",
    "                        color_continuous_scale=[\n",
    "                            [0, viridis[0]],\n",
    "                            [1./1000000, viridis[2]],\n",
    "                            [1./10000, viridis[4]],\n",
    "                            [1./100, viridis[7]],\n",
    "                            [1., viridis[9]],\n",
    "                        ],\n",
    "                        opacity=0.5, \n",
    "                        range_color=[0, 300000],\n",
    "                        center={'lat': 41.84, 'lon': -87.723177},\n",
    "                        labels={'trip_count':'trip_count'},\n",
    "                        width=1000,\n",
    "                        height=1000)\n",
    "fig.update_layout(title_text='Trip count by dropoff location for each hour of day - Hexagon resolution 8 borders', title_x=0.5)\n",
    "fig.show()"
   ]
  },
  {
   "cell_type": "markdown",
   "metadata": {},
   "source": [
    "The same observations can be made for the hexagon bins if we take a resolution of 8. The difference of smaller areas between different time periods is observable but quantifying the overall pattern of a larger area is more difficult with finer resolution."
   ]
  },
  {
   "cell_type": "markdown",
   "metadata": {},
   "source": [
    "Below we will look at a plot with a lower resolution to observe the data on a broader view."
   ]
  },
  {
   "cell_type": "code",
   "execution_count": null,
   "metadata": {},
   "outputs": [],
   "source": [
    "interactive_Plot_Pickup_hexRes6_hour = plotH3_HexagonMapInteractive(taxi_df, location='pickup', feature='all', aggregation='sum', time_interval='hour', hexRes=6)"
   ]
  },
  {
   "cell_type": "code",
   "execution_count": null,
   "metadata": {},
   "outputs": [],
   "source": [
    "interactive_Plot_Dropoff_hexRes6_hour = plotH3_HexagonMapInteractive(taxi_df, location='dropoff', feature='all', aggregation='sum', time_interval='hour', hexRes=6)"
   ]
  },
  {
   "cell_type": "code",
   "execution_count": null,
   "metadata": {},
   "outputs": [],
   "source": [
    "fig = px.choropleth_mapbox(interactive_Plot_Pickup_hexRes6_hour,\n",
    "                        geojson=interactive_Plot_Pickup_hexRes6_hour[['h3_index', 'geometry']].drop_duplicates(subset=['h3_index']), \n",
    "                        locations=interactive_Plot_Pickup_hexRes6_hour.h3_index,\n",
    "                        featureidkey=\"properties.h3_index\",\n",
    "                        color='trip_count',\n",
    "                        animation_frame='hour',\n",
    "                        mapbox_style='open-street-map', \n",
    "                        zoom=9.5,\n",
    "                        color_continuous_scale=[\n",
    "                            [0, viridis[0]],\n",
    "                            [1./1000000, viridis[2]],\n",
    "                            [1./10000, viridis[4]],\n",
    "                            [1./100, viridis[7]],\n",
    "                            [1., viridis[9]],\n",
    "                        ],\n",
    "                        opacity=0.5, \n",
    "                        range_color=[0, 900000],\n",
    "                        center={'lat': 41.84, 'lon': -87.723177},\n",
    "                        labels={'trip_count':'trip_count'},\n",
    "                        width=1000,\n",
    "                        height=1000)\n",
    "fig.update_layout(title_text='Trip count by pickup location for each hour of day - Hexagon resolution 6 borders', title_x=0.5)\n",
    "fig.show()\n",
    "\n",
    "fig = px.choropleth_mapbox(interactive_Plot_Dropoff_hexRes6_hour,\n",
    "                        geojson=interactive_Plot_Dropoff_hexRes6_hour[['h3_index', 'geometry']].drop_duplicates(subset=['h3_index']), \n",
    "                        locations=interactive_Plot_Dropoff_hexRes6_hour.h3_index,\n",
    "                        featureidkey=\"properties.h3_index\",\n",
    "                        color='trip_count',\n",
    "                        animation_frame='hour',\n",
    "                        mapbox_style='open-street-map', \n",
    "                        zoom=9.5,\n",
    "                        color_continuous_scale=[\n",
    "                            [0, viridis[0]],\n",
    "                            [1./1000000, viridis[2]],\n",
    "                            [1./10000, viridis[4]],\n",
    "                            [1./100, viridis[7]],\n",
    "                            [1., viridis[9]],\n",
    "                        ],\n",
    "                        opacity=0.5, \n",
    "                        range_color=[0, 900000],\n",
    "                        center={'lat': 41.84, 'lon': -87.723177},\n",
    "                        labels={'trip_count':'trip_count'},\n",
    "                        width=1000,\n",
    "                        height=1000)\n",
    "fig.update_layout(title_text='Trip count by dropoff location for each hour of day - Hexagon resolution 6 borders', title_x=0.5)\n",
    "fig.show()"
   ]
  },
  {
   "cell_type": "markdown",
   "metadata": {},
   "source": [
    "As we can observe the trip count in the center of chicago increases between 8AM and 9AM for the dropoff locations and nearly doubles in comparison to 7AM while for the same time frame the trip count for the pickup location is lower compared to the dropoff trip count and other time periods but is increasing over the hours. Looking at the trip count from the pickup location map, we can see a similar pattern between 16PM and 18PM where the trip count peaks in comparison to the other times while for the same time frame the trip count for the dropoff location is relatively low. The mentioned timeframes correspond with the rush hours. It makes sense that before 8 AM the trip count is low because most people are still sleeping or still at home at those times. At around 18 PM most people have finished working and are going home. Other factors for the high demand could be that most people arrive at the airport or the Navy Pier late in the evening, people meeting up in the morning till afternoon or the generally higher traffic in the city at the mid hours."
   ]
  },
  {
   "cell_type": "markdown",
   "metadata": {},
   "source": [
    "## Analysis of the monthly time intervals"
   ]
  },
  {
   "cell_type": "markdown",
   "metadata": {},
   "source": [
    "Now we will look at the trip count depending on the month of year to find seasonal patterns."
   ]
  },
  {
   "cell_type": "code",
   "execution_count": null,
   "metadata": {},
   "outputs": [],
   "source": [
    "interactive_Plot_Pickup_monthly = plotByFeatureTime(taxi_df, location='pickup', feature='all', aggregation='sum', time_interval='month', start_time = True)"
   ]
  },
  {
   "cell_type": "code",
   "execution_count": null,
   "metadata": {},
   "outputs": [],
   "source": [
    "interactive_Plot_Dropoff_monthly = plotByFeatureTime(taxi_df, location='dropoff', feature='all', aggregation='sum', time_interval='month', start_time = True)"
   ]
  },
  {
   "cell_type": "code",
   "execution_count": null,
   "metadata": {},
   "outputs": [],
   "source": [
    "viridis = px.colors.sequential.Viridis\n",
    "fig = px.choropleth_mapbox(interactive_Plot_Pickup_monthly,\n",
    "                        geojson=interactive_Plot_Pickup_monthly[['GEOID', 'geometry']].drop_duplicates(subset=['GEOID']), \n",
    "                        locations=interactive_Plot_Pickup_monthly.GEOID,\n",
    "                        featureidkey=\"properties.GEOID\",\n",
    "                        color='trip_count',\n",
    "                        animation_frame='month',\n",
    "                        mapbox_style='open-street-map', \n",
    "                        zoom=9.5,\n",
    "                        color_continuous_scale=[\n",
    "                            [0, viridis[0]],\n",
    "                            [1./1000000, viridis[2]],\n",
    "                            [1./10000, viridis[4]],\n",
    "                            [1./100, viridis[7]],\n",
    "                            [1., viridis[9]],\n",
    "                        ],\n",
    "                        opacity=0.5, \n",
    "                        range_color=[0, 300000],\n",
    "                        center={'lat': 41.84, 'lon': -87.723177},\n",
    "                        labels={'trip_count':'trip_count'},\n",
    "                        width=1000,\n",
    "                        height=1000)\n",
    "fig.update_layout(title_text='Trip count by pickup location for each month of year - Census tract borders', title_x=0.5)\n",
    "fig.show()\n",
    "fig = px.choropleth_mapbox(interactive_Plot_Dropoff_monthly,\n",
    "                        geojson=interactive_Plot_Dropoff_monthly[['GEOID', 'geometry']].drop_duplicates(subset=['GEOID']), \n",
    "                        locations=interactive_Plot_Dropoff_monthly.GEOID,\n",
    "                        featureidkey=\"properties.GEOID\",\n",
    "                        color='trip_count',\n",
    "                        animation_frame='month',\n",
    "                        mapbox_style='open-street-map', \n",
    "                        zoom=9.5,\n",
    "                        color_continuous_scale=[\n",
    "                            [0, viridis[0]],\n",
    "                            [1./1000000, viridis[2]],\n",
    "                            [1./10000, viridis[4]],\n",
    "                            [1./100, viridis[7]],\n",
    "                            [1., viridis[9]],\n",
    "                        ],\n",
    "                        opacity=0.5, \n",
    "                        range_color=[0, 300000],\n",
    "                        center={'lat': 41.84, 'lon': -87.723177},\n",
    "                        labels={'trip_count':'trip_count'},\n",
    "                        width=1000,\n",
    "                        height=1000)\n",
    "fig.update_layout(title_text='Trip count by dropoff location for each month of year - Census tract borders', title_x=0.5)\n",
    "fig.show()"
   ]
  },
  {
   "cell_type": "code",
   "execution_count": null,
   "metadata": {},
   "outputs": [],
   "source": [
    "interactive_Plot_Pickup_hexRes8_month = plotH3_HexagonMapInteractive(taxi_df, location='pickup', feature='all', aggregation='sum', time_interval='month', hexRes=8)"
   ]
  },
  {
   "cell_type": "code",
   "execution_count": null,
   "metadata": {},
   "outputs": [],
   "source": [
    "interactive_Plot_Dropoff_hexRes8_month = plotH3_HexagonMapInteractive(taxi_df, location='dropoff', feature='all', aggregation='sum', time_interval='month', hexRes=8)"
   ]
  },
  {
   "cell_type": "code",
   "execution_count": null,
   "metadata": {},
   "outputs": [],
   "source": [
    "fig = px.choropleth_mapbox(interactive_Plot_Pickup_hexRes8_month,\n",
    "                        geojson=interactive_Plot_Pickup_hexRes8_month[['h3_index', 'geometry']].drop_duplicates(subset=['h3_index']), \n",
    "                        locations=interactive_Plot_Pickup_hexRes8_month.h3_index,\n",
    "                        featureidkey=\"properties.h3_index\",\n",
    "                        color='trip_count',\n",
    "                        animation_frame='month',\n",
    "                        mapbox_style='open-street-map', \n",
    "                        zoom=9.5,\n",
    "                        color_continuous_scale=[\n",
    "                            [0, viridis[0]],\n",
    "                            [1./1000000, viridis[2]],\n",
    "                            [1./10000, viridis[4]],\n",
    "                            [1./100, viridis[7]],\n",
    "                            [1., viridis[9]],\n",
    "                        ],\n",
    "                        opacity=0.5, \n",
    "                        range_color=[0, 300000],\n",
    "                        center={'lat': 41.84, 'lon': -87.723177},\n",
    "                        labels={'trip_count':'trip_count'},\n",
    "                        width=1000,\n",
    "                        height=1000)\n",
    "fig.update_layout(title_text='Trip count by pickup location for each month of year - Hexagon resolution 8 borders', title_x=0.5)\n",
    "fig.show()\n",
    "fig = px.choropleth_mapbox(interactive_Plot_Dropoff_hexRes8_month,\n",
    "                        geojson=interactive_Plot_Dropoff_hexRes8_month[['h3_index', 'geometry']].drop_duplicates(subset=['h3_index']), \n",
    "                        locations=interactive_Plot_Dropoff_hexRes8_month.h3_index,\n",
    "                        featureidkey=\"properties.h3_index\",\n",
    "                        color='trip_count',\n",
    "                        animation_frame='month',\n",
    "                        mapbox_style='open-street-map', \n",
    "                        zoom=9.5,\n",
    "                        color_continuous_scale=[\n",
    "                            [0, viridis[0]],\n",
    "                            [1./1000000, viridis[2]],\n",
    "                            [1./10000, viridis[4]],\n",
    "                            [1./100, viridis[7]],\n",
    "                            [1., viridis[9]],\n",
    "                        ],\n",
    "                        opacity=0.5, \n",
    "                        range_color=[0, 300000],\n",
    "                        center={'lat': 41.84, 'lon': -87.723177},\n",
    "                        labels={'trip_count':'trip_count'},\n",
    "                        width=1000,\n",
    "                        height=1000)\n",
    "fig.update_layout(title_text='Trip count by dropoff location for each month of year - Hexagon resolution 8 borders', title_x=0.5)\n",
    "fig.show()"
   ]
  },
  {
   "cell_type": "code",
   "execution_count": null,
   "metadata": {},
   "outputs": [],
   "source": [
    "interactive_Plot_Pickup_hexRes6_month = plotH3_HexagonMapInteractive(taxi_df, location='pickup', feature='all', aggregation='sum', time_interval='month', hexRes=6)"
   ]
  },
  {
   "cell_type": "code",
   "execution_count": null,
   "metadata": {},
   "outputs": [],
   "source": [
    "interactive_Plot_Dropoff_hexRes6_month = plotH3_HexagonMapInteractive(taxi_df, location='dropoff', feature='all', aggregation='sum', time_interval='month', hexRes=6)"
   ]
  },
  {
   "cell_type": "code",
   "execution_count": null,
   "metadata": {},
   "outputs": [],
   "source": [
    "fig = px.choropleth_mapbox(interactive_Plot_Pickup_hexRes6_month,\n",
    "                        geojson=interactive_Plot_Pickup_hexRes6_month[['h3_index', 'geometry']].drop_duplicates(subset=['h3_index']), \n",
    "                        locations=interactive_Plot_Pickup_hexRes6_month.h3_index,\n",
    "                        featureidkey=\"properties.h3_index\",\n",
    "                        color='trip_count',\n",
    "                        animation_frame='month',\n",
    "                        mapbox_style='open-street-map', \n",
    "                        zoom=9.5,\n",
    "                        color_continuous_scale=[\n",
    "                            [0, viridis[0]],\n",
    "                            [1./1000000, viridis[2]],\n",
    "                            [1./10000, viridis[4]],\n",
    "                            [1./100, viridis[7]],\n",
    "                            [1., viridis[9]],\n",
    "                        ],\n",
    "                        opacity=0.5, \n",
    "                        range_color=[0, 1200000],\n",
    "                        center={'lat': 41.84, 'lon': -87.723177},\n",
    "                        labels={'trip_count':'trip_count'},\n",
    "                        width=1000,\n",
    "                        height=1000)\n",
    "fig.update_layout(title_text='Trip count by pickup location for each month of year - Hexagon resolution 6 borders', title_x=0.5)\n",
    "fig.show()\n",
    "fig = px.choropleth_mapbox(interactive_Plot_Dropoff_hexRes6_month,\n",
    "                        geojson=interactive_Plot_Dropoff_hexRes6_month[['h3_index', 'geometry']].drop_duplicates(subset=['h3_index']), \n",
    "                        locations=interactive_Plot_Dropoff_hexRes6_month.h3_index,\n",
    "                        featureidkey=\"properties.h3_index\",\n",
    "                        color='trip_count',\n",
    "                        animation_frame='month',\n",
    "                        mapbox_style='open-street-map', \n",
    "                        zoom=9.5,\n",
    "                        color_continuous_scale=[\n",
    "                            [0, viridis[0]],\n",
    "                            [1./1000000, viridis[2]],\n",
    "                            [1./10000, viridis[4]],\n",
    "                            [1./100, viridis[7]],\n",
    "                            [1., viridis[9]],\n",
    "                        ],\n",
    "                        opacity=0.5, \n",
    "                        range_color=[0, 1200000],\n",
    "                        center={'lat': 41.84, 'lon': -87.723177},\n",
    "                        labels={'trip_count':'trip_count'},\n",
    "                        width=1000,\n",
    "                        height=1000)\n",
    "fig.update_layout(title_text='Trip count by dropoff location for each month of year - Hexagon resolution 6 borders', title_x=0.5)\n",
    "fig.show()"
   ]
  },
  {
   "cell_type": "markdown",
   "metadata": {},
   "source": [
    "Comparing both the dropoff and pickup plots we can observe no significant difference in the distribution of the trip count between both. Moreover the trip count does not significantly change over the month except january, where it drops about about a fifth of the average trip count, and october where it peaks. The trip count for the pickup location is a bit higher for all month in comparison to the trip count for the dropoff location in the same month."
   ]
  },
  {
   "cell_type": "markdown",
   "metadata": {},
   "source": [
    "## Analysis of the week of day time intervals"
   ]
  },
  {
   "cell_type": "markdown",
   "metadata": {},
   "source": [
    "For the last maps we will look at the weekdays to find differences between weekdays and the weekend."
   ]
  },
  {
   "cell_type": "code",
   "execution_count": null,
   "metadata": {},
   "outputs": [],
   "source": [
    "interactive_Plot_Pickup_weekday = plotByFeatureTime(taxi_df, location='pickup', feature='all', aggregation='sum', time_interval='weekday', start_time = True)"
   ]
  },
  {
   "cell_type": "code",
   "execution_count": null,
   "metadata": {},
   "outputs": [],
   "source": [
    "interactive_Plot_Dropoff_weekday = plotByFeatureTime(taxi_df, location='dropoff', feature='all', aggregation='sum', time_interval='weekday', start_time = True)"
   ]
  },
  {
   "cell_type": "code",
   "execution_count": null,
   "metadata": {},
   "outputs": [],
   "source": [
    "viridis = px.colors.sequential.Viridis\n",
    "fig = px.choropleth_mapbox(interactive_Plot_Pickup_weekday,\n",
    "                        geojson=interactive_Plot_Pickup_weekday[['GEOID', 'geometry']].drop_duplicates(subset=['GEOID']), \n",
    "                        locations=interactive_Plot_Pickup_weekday.GEOID,\n",
    "                        featureidkey=\"properties.GEOID\",\n",
    "                        color='trip_count',\n",
    "                        animation_frame='weekday',\n",
    "                        mapbox_style='open-street-map', \n",
    "                        zoom=9.5,\n",
    "                        color_continuous_scale=[\n",
    "                            [0, viridis[0]],\n",
    "                            [1./1000000, viridis[2]],\n",
    "                            [1./10000, viridis[4]],\n",
    "                            [1./100, viridis[7]],\n",
    "                            [1., viridis[9]],\n",
    "                        ],\n",
    "                        opacity=0.5, \n",
    "                        range_color=[0, 500000],\n",
    "                        center={'lat': 41.84, 'lon': -87.723177},\n",
    "                        labels={'trip_count':'trip_count'},\n",
    "                        width=1000,\n",
    "                        height=1000)\n",
    "fig.update_layout(title_text='Trip count by pickup location for each weekday - Census tract borders', title_x=0.5)\n",
    "fig.show()\n",
    "fig = px.choropleth_mapbox(interactive_Plot_Pickup_weekday,\n",
    "                        geojson=interactive_Plot_Pickup_weekday[['GEOID', 'geometry']].drop_duplicates(subset=['GEOID']), \n",
    "                        locations=interactive_Plot_Pickup_weekday.GEOID,\n",
    "                        featureidkey=\"properties.GEOID\",\n",
    "                        color='trip_count',\n",
    "                        animation_frame='weekday',\n",
    "                        mapbox_style='open-street-map', \n",
    "                        zoom=9.5,\n",
    "                        color_continuous_scale=[\n",
    "                            [0, viridis[0]],\n",
    "                            [1./1000000, viridis[2]],\n",
    "                            [1./10000, viridis[4]],\n",
    "                            [1./100, viridis[7]],\n",
    "                            [1., viridis[9]],\n",
    "                        ],\n",
    "                        opacity=0.5, \n",
    "                        range_color=[0, 500000],\n",
    "                        center={'lat': 41.84, 'lon': -87.723177},\n",
    "                        labels={'trip_count':'trip_count'},\n",
    "                        width=1000,\n",
    "                        height=1000)\n",
    "fig.update_layout(title_text='Trip count by dropoff location for each weekday - Census tract borders', title_x=0.5)\n",
    "fig.show()"
   ]
  },
  {
   "cell_type": "code",
   "execution_count": null,
   "metadata": {},
   "outputs": [],
   "source": [
    "interactive_Plot_Pickup_hexRes8_weekday = plotH3_HexagonMapInteractive(taxi_df, location='pickup', feature='all', aggregation='sum', time_interval='weekday', hexRes=8)"
   ]
  },
  {
   "cell_type": "code",
   "execution_count": null,
   "metadata": {},
   "outputs": [],
   "source": [
    "interactive_Plot_Dropoff_hexRes8_weekday = plotH3_HexagonMapInteractive(taxi_df, location='dropoff', feature='all', aggregation='sum', time_interval='weekday', hexRes=8)"
   ]
  },
  {
   "cell_type": "code",
   "execution_count": null,
   "metadata": {},
   "outputs": [],
   "source": [
    "fig = px.choropleth_mapbox(interactive_Plot_Pickup_hexRes8_weekday,\n",
    "                        geojson=interactive_Plot_Pickup_hexRes8_weekday[['h3_index', 'geometry']].drop_duplicates(subset=['h3_index']), \n",
    "                        locations=interactive_Plot_Pickup_hexRes8_weekday.h3_index,\n",
    "                        featureidkey=\"properties.h3_index\",\n",
    "                        color='trip_count',\n",
    "                        animation_frame='weekday',\n",
    "                        mapbox_style='open-street-map', \n",
    "                        zoom=9.5,\n",
    "                        color_continuous_scale=[\n",
    "                            [0, viridis[0]],\n",
    "                            [1./1000000, viridis[2]],\n",
    "                            [1./10000, viridis[4]],\n",
    "                            [1./100, viridis[7]],\n",
    "                            [1., viridis[9]],\n",
    "                        ],\n",
    "                        opacity=0.5, \n",
    "                        range_color=[0, 500000],\n",
    "                        center={'lat': 41.84, 'lon': -87.723177},\n",
    "                        labels={'trip_count':'trip_count'},\n",
    "                        width=800,\n",
    "                        height=800)\n",
    "fig.update_layout(title_text='Trip count by pickup location for each weekday - Hexagon resolution 8 borders', title_x=0.5)\n",
    "fig.show()\n",
    "\n",
    "fig = px.choropleth_mapbox(interactive_Plot_Dropoff_hexRes8_weekday,\n",
    "                        geojson=interactive_Plot_Dropoff_hexRes8_weekday[['h3_index', 'geometry']].drop_duplicates(subset=['h3_index']), \n",
    "                        locations=interactive_Plot_Dropoff_hexRes8_weekday.h3_index,\n",
    "                        featureidkey=\"properties.h3_index\",\n",
    "                        color='trip_count',\n",
    "                        animation_frame='weekday',\n",
    "                        mapbox_style='open-street-map', \n",
    "                        zoom=9.5,\n",
    "                        color_continuous_scale=[\n",
    "                            [0, viridis[0]],\n",
    "                            [1./1000000, viridis[2]],\n",
    "                            [1./10000, viridis[4]],\n",
    "                            [1./100, viridis[7]],\n",
    "                            [1., viridis[9]],\n",
    "                        ],\n",
    "                        opacity=0.5, \n",
    "                        range_color=[0, 500000],\n",
    "                        center={'lat': 41.84, 'lon': -87.723177},\n",
    "                        labels={'trip_count':'trip_count'},\n",
    "                        width=800,\n",
    "                        height=800)\n",
    "fig.update_layout(title_text='Trip count by dropoff location for each weekday - Hexagon resolution 8 borders', title_x=0.5)\n",
    "fig.show()"
   ]
  },
  {
   "cell_type": "code",
   "execution_count": null,
   "metadata": {},
   "outputs": [],
   "source": [
    "interactive_Plot_Pickup_hexRes6_weekday = plotH3_HexagonMapInteractive(taxi_df, location='pickup', feature='all', aggregation='sum', time_interval='weekday', hexRes=6)"
   ]
  },
  {
   "cell_type": "code",
   "execution_count": null,
   "metadata": {},
   "outputs": [],
   "source": [
    "interactive_Plot_Dropoff_hexRes6_weekday = plotH3_HexagonMapInteractive(taxi_df, location='dropoff', feature='all', aggregation='sum', time_interval='weekday', hexRes=6)"
   ]
  },
  {
   "cell_type": "code",
   "execution_count": null,
   "metadata": {},
   "outputs": [],
   "source": [
    "fig = px.choropleth_mapbox(interactive_Plot_Pickup_hexRes6_weekday,\n",
    "                        geojson=interactive_Plot_Pickup_hexRes6_weekday[['h3_index', 'geometry']].drop_duplicates(subset=['h3_index']), \n",
    "                        locations=interactive_Plot_Pickup_hexRes6_weekday.h3_index,\n",
    "                        featureidkey=\"properties.h3_index\",\n",
    "                        color='trip_count',\n",
    "                        animation_frame='weekday',\n",
    "                        mapbox_style='open-street-map', \n",
    "                        zoom=9.5,\n",
    "                        color_continuous_scale=[\n",
    "                            [0, viridis[0]],\n",
    "                            [1./1000000, viridis[2]],\n",
    "                            [1./10000, viridis[4]],\n",
    "                            [1./100, viridis[7]],\n",
    "                            [1., viridis[9]],\n",
    "                        ],\n",
    "                        opacity=0.5, \n",
    "                        range_color=[0, 2200000],\n",
    "                        center={'lat': 41.84, 'lon': -87.723177},\n",
    "                        labels={'trip_count':'trip_count'},\n",
    "                        width=800,\n",
    "                        height=800)\n",
    "fig.update_layout(title_text='Trip count by pickup location for each weekday - Hexagon resolution 6 borders', title_x=0.5)\n",
    "fig.show()\n",
    "\n",
    "fig = px.choropleth_mapbox(interactive_Plot_Dropoff_hexRes6_weekday,\n",
    "                        geojson=interactive_Plot_Dropoff_hexRes6_weekday[['h3_index', 'geometry']].drop_duplicates(subset=['h3_index']), \n",
    "                        locations=interactive_Plot_Dropoff_hexRes6_weekday.h3_index,\n",
    "                        featureidkey=\"properties.h3_index\",\n",
    "                        color='trip_count',\n",
    "                        animation_frame='weekday',\n",
    "                        mapbox_style='open-street-map', \n",
    "                        zoom=9.5,\n",
    "                        color_continuous_scale=[\n",
    "                            [0, viridis[0]],\n",
    "                            [1./1000000, viridis[2]],\n",
    "                            [1./10000, viridis[4]],\n",
    "                            [1./100, viridis[7]],\n",
    "                            [1., viridis[9]],\n",
    "                        ],\n",
    "                        opacity=0.5, \n",
    "                        range_color=[0, 2200000],\n",
    "                        center={'lat': 41.84, 'lon': -87.723177},\n",
    "                        labels={'trip_count':'trip_count'},\n",
    "                        width=800,\n",
    "                        height=800)\n",
    "fig.update_layout(title_text='Trip count by dropoff location for each weekday - Hexagon resolution 6 borders', title_x=0.5)\n",
    "fig.show()"
   ]
  },
  {
   "cell_type": "markdown",
   "metadata": {},
   "source": [
    "Like in the maps for the month of year and hour of day we can observe the same patterns for example the trip counts for the pickup locations being higher in the center compared to the dropoff locations and the center being more demanded in general regardless of time. Furthermore from the weekdays we can see that friday having the most demand and saturday and especially sunday having the lowest demand. From monday on the demand is increasing over the week till friday at its peak. The low demand on Sunday can be explained by the fact that most people have their offday. In addition, most of the stores are closed and most people likely arrive in Chicago at the beginning of the weekend."
   ]
  },
  {
   "cell_type": "code",
   "execution_count": null,
   "metadata": {},
   "outputs": [],
   "source": []
  }
 ],
 "metadata": {
  "kernelspec": {
   "display_name": "Python 3 (ipykernel)",
   "language": "python",
   "name": "python3"
  },
  "language_info": {
   "codemirror_mode": {
    "name": "ipython",
    "version": 3
   },
   "file_extension": ".py",
   "mimetype": "text/x-python",
   "name": "python",
   "nbconvert_exporter": "python",
   "pygments_lexer": "ipython3",
   "version": "3.11.4"
  }
 },
 "nbformat": 4,
 "nbformat_minor": 4
}
