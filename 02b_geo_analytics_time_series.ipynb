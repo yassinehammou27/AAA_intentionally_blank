{
 "cells": [
  {
   "attachments": {},
   "cell_type": "markdown",
   "metadata": {},
   "source": [
    "# Geo analytics AAA time series - Intentionally Blank"
   ]
  },
  {
   "cell_type": "code",
   "execution_count": 1,
   "metadata": {},
   "outputs": [],
   "source": [
    "import json\n",
    "\n",
    "import pandas as pd\n",
    "import numpy as np\n",
    "\n",
    "import folium\n",
    "import h3\n",
    "import matplotlib.pyplot as plt\n",
    "import geopandas as gpd\n",
    "import branca.colormap as cm\n",
    "import shapely\n",
    "from shapely.geometry import shape\n",
    "import plotly.express as px\n",
    "import plotly.io as pio\n",
    "pio.renderers.default = 'iframe_connected'"
   ]
  },
  {
   "cell_type": "code",
   "execution_count": 2,
   "metadata": {},
   "outputs": [],
   "source": [
    "taxi_df = pd.read_parquet('data/prepared/taxi_data_prepared.gzip')\n",
    "taxi_df['pickup_centroid_location'] = gpd.GeoSeries.from_wkt(taxi_df['pickup_centroid_location'])\n",
    "taxi_df['dropoff_centroid_location'] = gpd.GeoSeries.from_wkt(taxi_df['dropoff_centroid_location'])\n",
    "census_tract_borders = gpd.read_file('data/chicago_census_tract_borders.zip')"
   ]
  },
  {
   "cell_type": "code",
   "execution_count": 3,
   "metadata": {},
   "outputs": [],
   "source": [
    "census_tract_borders = census_tract_borders.drop(census_tract_borders.columns.difference(['GEOID', 'geometry']), axis=1)"
   ]
  },
  {
   "cell_type": "code",
   "execution_count": 4,
   "metadata": {},
   "outputs": [
    {
     "data": {
      "text/html": [
       "<div>\n",
       "<style scoped>\n",
       "    .dataframe tbody tr th:only-of-type {\n",
       "        vertical-align: middle;\n",
       "    }\n",
       "\n",
       "    .dataframe tbody tr th {\n",
       "        vertical-align: top;\n",
       "    }\n",
       "\n",
       "    .dataframe thead th {\n",
       "        text-align: right;\n",
       "    }\n",
       "</style>\n",
       "<table border=\"1\" class=\"dataframe\">\n",
       "  <thead>\n",
       "    <tr style=\"text-align: right;\">\n",
       "      <th></th>\n",
       "      <th>GEOID</th>\n",
       "      <th>geometry</th>\n",
       "    </tr>\n",
       "  </thead>\n",
       "  <tbody>\n",
       "    <tr>\n",
       "      <th>0</th>\n",
       "      <td>17031221000</td>\n",
       "      <td>POLYGON ((-87.71699 41.92460, -87.71675 41.924...</td>\n",
       "    </tr>\n",
       "    <tr>\n",
       "      <th>1</th>\n",
       "      <td>17031221100</td>\n",
       "      <td>POLYGON ((-87.71374 41.92464, -87.71366 41.924...</td>\n",
       "    </tr>\n",
       "    <tr>\n",
       "      <th>2</th>\n",
       "      <td>17031242800</td>\n",
       "      <td>POLYGON ((-87.69670 41.89565, -87.69646 41.895...</td>\n",
       "    </tr>\n",
       "    <tr>\n",
       "      <th>3</th>\n",
       "      <td>17031242900</td>\n",
       "      <td>POLYGON ((-87.68684 41.89574, -87.68635 41.895...</td>\n",
       "    </tr>\n",
       "    <tr>\n",
       "      <th>4</th>\n",
       "      <td>17031243000</td>\n",
       "      <td>POLYGON ((-87.68195 41.89583, -87.68146 41.895...</td>\n",
       "    </tr>\n",
       "    <tr>\n",
       "      <th>...</th>\n",
       "      <td>...</td>\n",
       "      <td>...</td>\n",
       "    </tr>\n",
       "    <tr>\n",
       "      <th>686</th>\n",
       "      <td>17031191000</td>\n",
       "      <td>POLYGON ((-87.74630 41.92424, -87.74606 41.924...</td>\n",
       "    </tr>\n",
       "    <tr>\n",
       "      <th>687</th>\n",
       "      <td>17031560400</td>\n",
       "      <td>POLYGON ((-87.74322 41.80762, -87.74316 41.807...</td>\n",
       "    </tr>\n",
       "    <tr>\n",
       "      <th>688</th>\n",
       "      <td>17031550100</td>\n",
       "      <td>POLYGON ((-87.54958 41.65143, -87.54958 41.651...</td>\n",
       "    </tr>\n",
       "    <tr>\n",
       "      <th>689</th>\n",
       "      <td>17031283200</td>\n",
       "      <td>POLYGON ((-87.66172 41.87211, -87.66120 41.872...</td>\n",
       "    </tr>\n",
       "    <tr>\n",
       "      <th>690</th>\n",
       "      <td>17031100500</td>\n",
       "      <td>POLYGON ((-87.83663 41.97532, -87.83662 41.975...</td>\n",
       "    </tr>\n",
       "  </tbody>\n",
       "</table>\n",
       "<p>691 rows × 2 columns</p>\n",
       "</div>"
      ],
      "text/plain": [
       "           GEOID                                           geometry\n",
       "0    17031221000  POLYGON ((-87.71699 41.92460, -87.71675 41.924...\n",
       "1    17031221100  POLYGON ((-87.71374 41.92464, -87.71366 41.924...\n",
       "2    17031242800  POLYGON ((-87.69670 41.89565, -87.69646 41.895...\n",
       "3    17031242900  POLYGON ((-87.68684 41.89574, -87.68635 41.895...\n",
       "4    17031243000  POLYGON ((-87.68195 41.89583, -87.68146 41.895...\n",
       "..           ...                                                ...\n",
       "686  17031191000  POLYGON ((-87.74630 41.92424, -87.74606 41.924...\n",
       "687  17031560400  POLYGON ((-87.74322 41.80762, -87.74316 41.807...\n",
       "688  17031550100  POLYGON ((-87.54958 41.65143, -87.54958 41.651...\n",
       "689  17031283200  POLYGON ((-87.66172 41.87211, -87.66120 41.872...\n",
       "690  17031100500  POLYGON ((-87.83663 41.97532, -87.83662 41.975...\n",
       "\n",
       "[691 rows x 2 columns]"
      ]
     },
     "execution_count": 4,
     "metadata": {},
     "output_type": "execute_result"
    }
   ],
   "source": [
    "unique_census_tract_id = np.append(taxi_df['pickup_census_tract'].unique(), taxi_df['dropoff_census_tract'].unique()).astype('str')\n",
    "census_tract_borders= census_tract_borders[census_tract_borders['GEOID'].isin(unique_census_tract_id)].reset_index(drop=True)\n",
    "census_tract_borders"
   ]
  },
  {
   "cell_type": "code",
   "execution_count": 5,
   "metadata": {},
   "outputs": [],
   "source": [
    "def plotByFeatureTime(dataframe, location='pickup', feature='all', aggregation='sum', time_interval='hour', start_time = True):\n",
    "    \"\"\" Plot a feature of a dataframe on a map.\n",
    "\n",
    "    Parameters\n",
    "    ----------\n",
    "\n",
    "    dataframe :  (pandas.DataFrame) \n",
    "        The dataframe to plot.\n",
    "    location : (str) \n",
    "        The location column of the dataframe. Can be either 'pickup' or 'dropoff'. Default is 'pickup'.\n",
    "    feature : (str) \n",
    "        The feature to aggregate. If 'all', all features are aggregated. Default is 'all'\n",
    "    aggregation : (str)  \n",
    "        The aggregation function to use. Can be either 'mean', 'median', 'sum', 'count', 'min', 'max'. Default is 'sum'.\n",
    "    containMissingCensusTract : (bool)\n",
    "        If True, census tracts with no data are included in the plot. Default is False.\n",
    "\n",
    "    Returns\n",
    "    ----------\n",
    "\n",
    "    dataframe_grouped : (geopandas.GeoDataFrame) \n",
    "        The geodataframe grouped by the location column and the feature column. Contains always a geometry column and trip_count column.\n",
    "    \"\"\"\n",
    "    dataframe_grouped = dataframe.copy()\n",
    "    dataframe_grouped.dropna(inplace = True)\n",
    "    if feature == 'all':\n",
    "        features = dataframe_grouped.columns.difference(['pickup_census_tract', 'dropoff_census_tract', 'pickup_centroid_location', 'dropoff_centroid_location']).tolist()\n",
    "    else:\n",
    "        features = [feature]\n",
    "    \n",
    "    if location == 'pickup':\n",
    "        features.append('pickup_census_tract')\n",
    "        features.append('pickup_centroid_location')\n",
    "        dataframe_grouped = dataframe_grouped.drop(columns=['dropoff_census_tract', 'dropoff_centroid_location'])\n",
    "    elif location == 'dropoff':\n",
    "        features.append('dropoff_census_tract')\n",
    "        features.append('dropoff_centroid_location')\n",
    "        dataframe_grouped = dataframe_grouped.drop(columns=['pickup_census_tract', 'pickup_centroid_location'])\n",
    "    else:\n",
    "        raise ValueError(\"Location must be either 'pickup' or 'dropoff'.\")\n",
    "\n",
    "    if start_time == True:\n",
    "        dataframe_grouped.rename(columns={'trip_start_timestamp': 'timestamp'}, inplace=True)\n",
    "        dataframe_grouped.drop(columns=['trip_end_timestamp'], inplace=True)\n",
    "    else:\n",
    "        dataframe_grouped.rename(columns={'trip_end_timestamp': 'timestamp'}, inplace=True)\n",
    "        dataframe_grouped.drop(columns=['trip_start_timestamp'], inplace=True)\n",
    "    features[0]='timestamp'\n",
    "    if time_interval == 'hour':\n",
    "        dataframe_grouped[\"hour\"] = dataframe_grouped['timestamp'].dt.hour\n",
    "        dataframe_grouped.rename(columns={'timestamp': 'trip_count'}, inplace=True)\n",
    "        dataframe_grouped = dataframe_grouped.groupby([location + '_census_tract', location + '_centroid_location', 'hour']).agg(lambda column: column.agg('count') if column.name == 'trip_count' else column.agg(aggregation)).reset_index()\n",
    "    elif time_interval == 'month':\n",
    "        dataframe_grouped[\"month\"] = dataframe_grouped['timestamp'].dt.month\n",
    "        dataframe_grouped.rename(columns={'timestamp': 'trip_count'}, inplace=True)\n",
    "        dataframe_grouped = dataframe_grouped.groupby([location + '_census_tract', location + '_centroid_location', 'month']).agg(lambda column: column.agg('count') if column.name == 'trip_count' else column.agg(aggregation)).reset_index()\n",
    "    elif time_interval == 'weekday':\n",
    "        dataframe_grouped[\"weekday\"] = dataframe_grouped['timestamp'].dt.weekday\n",
    "        dataframe_grouped.rename(columns={'timestamp': 'trip_count'}, inplace=True)\n",
    "        dataframe_grouped = dataframe_grouped.groupby([location + '_census_tract', location + '_centroid_location', 'weekday']).agg(lambda column: column.agg('count') if column.name == 'trip_count' else column.agg(aggregation)).reset_index()\n",
    "    dataframe_grouped[\"trip_count\"] =dataframe_grouped[\"trip_count\"].astype(\"int32\")\n",
    "    dataframe_grouped = dataframe_grouped.rename(columns={location + '_census_tract': 'GEOID'})\n",
    "    dataframe_grouped['GEOID'] = dataframe_grouped['GEOID'].astype('str')\n",
    "    dataframe_grouped = dataframe_grouped.merge(census_tract_borders, on='GEOID', how='left')\n",
    "    dataframe_grouped = gpd.GeoDataFrame(dataframe_grouped)\n",
    "    dataframe_grouped.sort_values(by=[time_interval], inplace=True)\n",
    "    return dataframe_grouped"
   ]
  },
  {
   "cell_type": "code",
   "execution_count": 6,
   "metadata": {},
   "outputs": [],
   "source": [
    "interactive_Plot_Pickup_hourly = plotByFeatureTime(taxi_df, location='pickup', feature='all', aggregation='sum', time_interval='hour', start_time = True)"
   ]
  },
  {
   "cell_type": "code",
   "execution_count": 7,
   "metadata": {},
   "outputs": [],
   "source": [
    "interactive_Plot_Dropoff_hourly = plotByFeatureTime(taxi_df, location='dropoff', feature='all', aggregation='sum', time_interval='hour', start_time = True)"
   ]
  },
  {
   "cell_type": "code",
   "execution_count": null,
   "metadata": {},
   "outputs": [],
   "source": [
    "viridis = px.colors.sequential.Viridis\n",
    "fig = px.choropleth_mapbox(interactive_Plot_Pickup_hourly,\n",
    "                        geojson=interactive_Plot_Pickup_hourly[['GEOID', 'geometry']].drop_duplicates(subset=['GEOID']), \n",
    "                        locations=interactive_Plot_Pickup_hourly.GEOID,\n",
    "                        featureidkey=\"properties.GEOID\",\n",
    "                        color='trip_count',\n",
    "                        animation_frame='hour',\n",
    "                        mapbox_style='open-street-map', \n",
    "                        zoom=9.5,\n",
    "                        color_continuous_scale=[\n",
    "                            [0, viridis[0]],\n",
    "                            [1./1000000, viridis[2]],\n",
    "                            [1./10000, viridis[4]],\n",
    "                            [1./100, viridis[7]],\n",
    "                            [1., viridis[9]],\n",
    "                        ],\n",
    "                        opacity=0.5, \n",
    "                        range_color=[0, 300000],\n",
    "                        center={'lat': 41.84, 'lon': -87.723177},\n",
    "                        labels={'trip_count':'trip_count'},\n",
    "                        width=800,\n",
    "                        height=800)\n",
    "fig.update_layout(title_text='Trip count by pickup location for each hour of day - Census tract borders', title_x=0.5)\n",
    "fig.show()\n",
    "fig = px.choropleth_mapbox(interactive_Plot_Dropoff_hourly,\n",
    "                        geojson=interactive_Plot_Dropoff_hourly[['GEOID', 'geometry']].drop_duplicates(subset=['GEOID']), \n",
    "                        locations=interactive_Plot_Dropoff_hourly.GEOID,\n",
    "                        featureidkey=\"properties.GEOID\",\n",
    "                        color='trip_count',\n",
    "                        animation_frame='hour',\n",
    "                        mapbox_style='open-street-map', \n",
    "                        zoom=9.5,\n",
    "                        color_continuous_scale=[\n",
    "                            [0, viridis[0]],\n",
    "                            [1./1000000, viridis[2]],\n",
    "                            [1./10000, viridis[4]],\n",
    "                            [1./100, viridis[7]],\n",
    "                            [1., viridis[9]],\n",
    "                        ],\n",
    "                        opacity=0.5, \n",
    "                        range_color=[0, 300000],\n",
    "                        center={'lat': 41.84, 'lon': -87.723177},\n",
    "                        labels={'trip_count':'trip_count'},\n",
    "                        width=800,\n",
    "                        height=800)\n",
    "fig.update_layout(title_text='Trip count by dropoff location for each hour of day - Census tract borders', title_x=0.5)\n",
    "fig.show()"
   ]
  },
  {
   "cell_type": "code",
   "execution_count": 9,
   "metadata": {},
   "outputs": [],
   "source": [
    "interactive_Plot_Pickup_monthly = plotByFeatureTime(taxi_df, location='pickup', feature='all', aggregation='sum', time_interval='month', start_time = True)"
   ]
  },
  {
   "cell_type": "code",
   "execution_count": 10,
   "metadata": {},
   "outputs": [],
   "source": [
    "interactive_Plot_Dropoff_monthly = plotByFeatureTime(taxi_df, location='dropoff', feature='all', aggregation='sum', time_interval='month', start_time = True)"
   ]
  },
  {
   "cell_type": "code",
   "execution_count": 11,
   "metadata": {},
   "outputs": [
    {
     "data": {
      "text/html": [
       "<iframe\n",
       "    scrolling=\"no\"\n",
       "    width=\"820px\"\n",
       "    height=\"820\"\n",
       "    src=\"iframe_figures/figure_11.html\"\n",
       "    frameborder=\"0\"\n",
       "    allowfullscreen\n",
       "></iframe>\n"
      ]
     },
     "metadata": {},
     "output_type": "display_data"
    },
    {
     "data": {
      "text/html": [
       "<iframe\n",
       "    scrolling=\"no\"\n",
       "    width=\"820px\"\n",
       "    height=\"820\"\n",
       "    src=\"iframe_figures/figure_11.html\"\n",
       "    frameborder=\"0\"\n",
       "    allowfullscreen\n",
       "></iframe>\n"
      ]
     },
     "metadata": {},
     "output_type": "display_data"
    }
   ],
   "source": [
    "viridis = px.colors.sequential.Viridis\n",
    "fig = px.choropleth_mapbox(interactive_Plot_Pickup_monthly,\n",
    "                        geojson=interactive_Plot_Pickup_monthly[['GEOID', 'geometry']].drop_duplicates(subset=['GEOID']), \n",
    "                        locations=interactive_Plot_Pickup_monthly.GEOID,\n",
    "                        featureidkey=\"properties.GEOID\",\n",
    "                        color='trip_count',\n",
    "                        animation_frame='month',\n",
    "                        mapbox_style='open-street-map', \n",
    "                        zoom=9.5,\n",
    "                        color_continuous_scale=[\n",
    "                            [0, viridis[0]],\n",
    "                            [1./1000000, viridis[2]],\n",
    "                            [1./10000, viridis[4]],\n",
    "                            [1./100, viridis[7]],\n",
    "                            [1., viridis[9]],\n",
    "                        ],\n",
    "                        opacity=0.5, \n",
    "                        range_color=[0, 300000],\n",
    "                        center={'lat': 41.84, 'lon': -87.723177},\n",
    "                        labels={'trip_count':'trip_count'},\n",
    "                        width=800,\n",
    "                        height=800)\n",
    "fig.update_layout(title_text='Trip count by pickup location for each month of year - Census tract borders', title_x=0.5)\n",
    "fig.show()\n",
    "fig = px.choropleth_mapbox(interactive_Plot_Dropoff_monthly,\n",
    "                        geojson=interactive_Plot_Dropoff_monthly[['GEOID', 'geometry']].drop_duplicates(subset=['GEOID']), \n",
    "                        locations=interactive_Plot_Dropoff_monthly.GEOID,\n",
    "                        featureidkey=\"properties.GEOID\",\n",
    "                        color='trip_count',\n",
    "                        animation_frame='month',\n",
    "                        mapbox_style='open-street-map', \n",
    "                        zoom=9.5,\n",
    "                        color_continuous_scale=[\n",
    "                            [0, viridis[0]],\n",
    "                            [1./1000000, viridis[2]],\n",
    "                            [1./10000, viridis[4]],\n",
    "                            [1./100, viridis[7]],\n",
    "                            [1., viridis[9]],\n",
    "                        ],\n",
    "                        opacity=0.5, \n",
    "                        range_color=[0, 300000],\n",
    "                        center={'lat': 41.84, 'lon': -87.723177},\n",
    "                        labels={'trip_count':'trip_count'},\n",
    "                        width=800,\n",
    "                        height=800)\n",
    "fig.update_layout(title_text='Trip count by dropoff location for each month of year - Census tract borders', title_x=0.5)\n",
    "fig.show()"
   ]
  },
  {
   "cell_type": "code",
   "execution_count": 12,
   "metadata": {},
   "outputs": [],
   "source": [
    "interactive_Plot_Pickup_weekday = plotByFeatureTime(taxi_df, location='pickup', feature='all', aggregation='sum', time_interval='weekday', start_time = True)"
   ]
  },
  {
   "cell_type": "code",
   "execution_count": 13,
   "metadata": {},
   "outputs": [],
   "source": [
    "interactive_Plot_Dropoff_weekday = plotByFeatureTime(taxi_df, location='dropoff', feature='all', aggregation='sum', time_interval='weekday', start_time = True)"
   ]
  },
  {
   "cell_type": "code",
   "execution_count": 14,
   "metadata": {},
   "outputs": [
    {
     "data": {
      "text/html": [
       "<iframe\n",
       "    scrolling=\"no\"\n",
       "    width=\"820px\"\n",
       "    height=\"820\"\n",
       "    src=\"iframe_figures/figure_14.html\"\n",
       "    frameborder=\"0\"\n",
       "    allowfullscreen\n",
       "></iframe>\n"
      ]
     },
     "metadata": {},
     "output_type": "display_data"
    },
    {
     "data": {
      "text/html": [
       "<iframe\n",
       "    scrolling=\"no\"\n",
       "    width=\"820px\"\n",
       "    height=\"820\"\n",
       "    src=\"iframe_figures/figure_14.html\"\n",
       "    frameborder=\"0\"\n",
       "    allowfullscreen\n",
       "></iframe>\n"
      ]
     },
     "metadata": {},
     "output_type": "display_data"
    }
   ],
   "source": [
    "viridis = px.colors.sequential.Viridis\n",
    "fig = px.choropleth_mapbox(interactive_Plot_Pickup_weekday,\n",
    "                        geojson=interactive_Plot_Pickup_weekday[['GEOID', 'geometry']].drop_duplicates(subset=['GEOID']), \n",
    "                        locations=interactive_Plot_Pickup_weekday.GEOID,\n",
    "                        featureidkey=\"properties.GEOID\",\n",
    "                        color='trip_count',\n",
    "                        animation_frame='weekday',\n",
    "                        mapbox_style='open-street-map', \n",
    "                        zoom=9.5,\n",
    "                        color_continuous_scale=[\n",
    "                            [0, viridis[0]],\n",
    "                            [1./1000000, viridis[2]],\n",
    "                            [1./10000, viridis[4]],\n",
    "                            [1./100, viridis[7]],\n",
    "                            [1., viridis[9]],\n",
    "                        ],\n",
    "                        opacity=0.5, \n",
    "                        range_color=[0, 300000],\n",
    "                        center={'lat': 41.84, 'lon': -87.723177},\n",
    "                        labels={'trip_count':'trip_count'},\n",
    "                        width=800,\n",
    "                        height=800)\n",
    "fig.update_layout(title_text='Trip count by pickup location for each weekday - Census tract borders', title_x=0.5)\n",
    "fig.show()\n",
    "fig = px.choropleth_mapbox(interactive_Plot_Pickup_weekday,\n",
    "                        geojson=interactive_Plot_Pickup_weekday[['GEOID', 'geometry']].drop_duplicates(subset=['GEOID']), \n",
    "                        locations=interactive_Plot_Pickup_weekday.GEOID,\n",
    "                        featureidkey=\"properties.GEOID\",\n",
    "                        color='trip_count',\n",
    "                        animation_frame='weekday',\n",
    "                        mapbox_style='open-street-map', \n",
    "                        zoom=9.5,\n",
    "                        color_continuous_scale=[\n",
    "                            [0, viridis[0]],\n",
    "                            [1./1000000, viridis[2]],\n",
    "                            [1./10000, viridis[4]],\n",
    "                            [1./100, viridis[7]],\n",
    "                            [1., viridis[9]],\n",
    "                        ],\n",
    "                        opacity=0.5, \n",
    "                        range_color=[0, 300000],\n",
    "                        center={'lat': 41.84, 'lon': -87.723177},\n",
    "                        labels={'trip_count':'trip_count'},\n",
    "                        width=800,\n",
    "                        height=800)\n",
    "fig.update_layout(title_text='Trip count by dropoff location for each weekday - Census tract borders', title_x=0.5)\n",
    "fig.show()"
   ]
  },
  {
   "cell_type": "code",
   "execution_count": 15,
   "metadata": {},
   "outputs": [],
   "source": [
    "# Create docstring for the following function\n",
    "def plotH3_HexagonMapInteractive(dataframe, location='pickup', feature='all', aggregation='sum', hexRes = 10, time_interval='hour'):\n",
    "    \"\"\" Plot a feature of a dataframe on a map.\n",
    "\n",
    "    Parameters\n",
    "    ----------\n",
    "\n",
    "    dataframe :  (pandas.DataFrame) \n",
    "        The dataframe to plot.\n",
    "    location : (str) \n",
    "        The location column of the dataframe. Can be either 'pickup' or 'dropoff'. Default is 'pickup'.\n",
    "    feature : (str) \n",
    "        The feature to aggregate. If 'all', all features are aggregated. Default is 'all'\n",
    "    aggregation : (str)  \n",
    "        The aggregation function to use. Can be either 'mean', 'median', 'sum', 'count', 'min', 'max'. Default is 'sum'.\n",
    "    containMissingCensusTract : (bool)\n",
    "        If True, census tracts with no data are included in the plot. Default is False.\n",
    "    hexRes : (int)\n",
    "        H3 hexagon resolution size. Default is 10.\n",
    "    Returns\n",
    "    ----------\n",
    "\n",
    "    taxi_df_geo_grouped : (geopandas.GeoDataFrame) \n",
    "        The geodataframe grouped by the location column and the feature column. Contains always a geometry column and trip_count column.\n",
    "    \"\"\"\n",
    "    taxi_df_geo = plotByFeatureTime(dataframe, location= location,feature = feature, aggregation = aggregation, time_interval=time_interval)\n",
    "    # geometry to h3 index\n",
    "    taxi_df_geo['h3_index'] = taxi_df_geo.apply(lambda row: h3.geo_to_h3(row[location + '_centroid_location'].y, row[location + '_centroid_location'].x, hexRes), axis=1)\n",
    "\n",
    "    geojson = []\n",
    "    geometries = []\n",
    "    indexes = []\n",
    "\n",
    "    for geometry in taxi_df_geo['geometry']:\n",
    "        geojson.append(shapely.to_geojson(geometry))\n",
    "\n",
    "    for geometry in geojson:\n",
    "        obj = json.loads(geometry)\n",
    "        h3_indexes = h3.polyfill(obj, hexRes ,True)\n",
    "        for index in h3_indexes:\n",
    "            geometries.append(shape({\"type\": \"Polygon\",\n",
    "                    \"coordinates\": [h3.h3_to_geo_boundary(index, geo_json=True)],\n",
    "                    \"properties\": \"\"\n",
    "                    }))\n",
    "            indexes.append(index)   \n",
    "    if location == \"pickup\":\n",
    "        taxi_df_geo.drop(columns= ['geometry', 'pickup_centroid_location', 'GEOID'], inplace = True)\n",
    "    else:\n",
    "        taxi_df_geo.drop(columns= ['geometry', 'dropoff_centroid_location', 'GEOID'], inplace = True)\n",
    "    df_h3_polyfilled = pd.DataFrame({'h3_index': indexes})\n",
    "    taxi_df_geo_grouped = taxi_df_geo.groupby(['h3_index', time_interval]).agg(aggregation).reset_index()\n",
    "    taxi_df_geo_grouped = taxi_df_geo_grouped.merge(df_h3_polyfilled, on='h3_index', how='outer')\n",
    "    taxi_df_geo_grouped['geometry'] = taxi_df_geo_grouped.apply(lambda row: shape({\"type\": \"Polygon\",\n",
    "                                           \"coordinates\": [h3.h3_to_geo_boundary(row[\"h3_index\"], geo_json=True)],\n",
    "                                           \"properties\": \"\"\n",
    "                                           }), axis=1)\n",
    "    taxi_df_geo_grouped = gpd.GeoDataFrame(taxi_df_geo_grouped, crs='EPSG:4326', geometry='geometry')\n",
    "    taxi_df_geo_grouped.sort_values(by=[time_interval], inplace=True)\n",
    "    return taxi_df_geo_grouped\n"
   ]
  },
  {
   "cell_type": "code",
   "execution_count": 16,
   "metadata": {},
   "outputs": [],
   "source": [
    "interactive_Plot_Pickup_hexRes8_hour = plotH3_HexagonMapInteractive(taxi_df, location='pickup', feature='all', aggregation='sum', time_interval='hour', hexRes=8)"
   ]
  },
  {
   "cell_type": "code",
   "execution_count": 17,
   "metadata": {},
   "outputs": [],
   "source": [
    "interactive_Plot_Dropoff_hexRes8_hour = plotH3_HexagonMapInteractive(taxi_df, location='dropoff', feature='all', aggregation='sum', time_interval='hour', hexRes=8)"
   ]
  },
  {
   "cell_type": "code",
   "execution_count": 18,
   "metadata": {},
   "outputs": [
    {
     "data": {
      "text/html": [
       "<iframe\n",
       "    scrolling=\"no\"\n",
       "    width=\"820px\"\n",
       "    height=\"820\"\n",
       "    src=\"iframe_figures/figure_18.html\"\n",
       "    frameborder=\"0\"\n",
       "    allowfullscreen\n",
       "></iframe>\n"
      ]
     },
     "metadata": {},
     "output_type": "display_data"
    },
    {
     "data": {
      "text/html": [
       "<iframe\n",
       "    scrolling=\"no\"\n",
       "    width=\"820px\"\n",
       "    height=\"820\"\n",
       "    src=\"iframe_figures/figure_18.html\"\n",
       "    frameborder=\"0\"\n",
       "    allowfullscreen\n",
       "></iframe>\n"
      ]
     },
     "metadata": {},
     "output_type": "display_data"
    }
   ],
   "source": [
    "fig = px.choropleth_mapbox(interactive_Plot_Pickup_hexRes8_hour,\n",
    "                        geojson=interactive_Plot_Pickup_hexRes8_hour[['h3_index', 'geometry']].drop_duplicates(subset=['h3_index']), \n",
    "                        locations=interactive_Plot_Pickup_hexRes8_hour.h3_index,\n",
    "                        featureidkey=\"properties.h3_index\",\n",
    "                        color='trip_count',\n",
    "                        animation_frame='hour',\n",
    "                        mapbox_style='open-street-map', \n",
    "                        zoom=9.5,\n",
    "                        color_continuous_scale=[\n",
    "                            [0, viridis[0]],\n",
    "                            [1./1000000, viridis[2]],\n",
    "                            [1./10000, viridis[4]],\n",
    "                            [1./100, viridis[7]],\n",
    "                            [1., viridis[9]],\n",
    "                        ],\n",
    "                        opacity=0.5, \n",
    "                        range_color=[0, 300000],\n",
    "                        center={'lat': 41.84, 'lon': -87.723177},\n",
    "                        labels={'trip_count':'trip_count'},\n",
    "                        width=800,\n",
    "                        height=800)\n",
    "fig.update_layout(title_text='Trip count by pickup location for each hour of day - Hexagon resolution 8 borders', title_x=0.5)\n",
    "fig.show()\n",
    "\n",
    "fig = px.choropleth_mapbox(interactive_Plot_Dropoff_hexRes8_hour,\n",
    "                        geojson=interactive_Plot_Dropoff_hexRes8_hour[['h3_index', 'geometry']].drop_duplicates(subset=['h3_index']), \n",
    "                        locations=interactive_Plot_Dropoff_hexRes8_hour.h3_index,\n",
    "                        featureidkey=\"properties.h3_index\",\n",
    "                        color='trip_count',\n",
    "                        animation_frame='hour',\n",
    "                        mapbox_style='open-street-map', \n",
    "                        zoom=9.5,\n",
    "                        color_continuous_scale=[\n",
    "                            [0, viridis[0]],\n",
    "                            [1./1000000, viridis[2]],\n",
    "                            [1./10000, viridis[4]],\n",
    "                            [1./100, viridis[7]],\n",
    "                            [1., viridis[9]],\n",
    "                        ],\n",
    "                        opacity=0.5, \n",
    "                        range_color=[0, 300000],\n",
    "                        center={'lat': 41.84, 'lon': -87.723177},\n",
    "                        labels={'trip_count':'trip_count'},\n",
    "                        width=800,\n",
    "                        height=800)\n",
    "fig.update_layout(title_text='Trip count by dropoff location for each hour of day - Hexagon resolution 8 borders', title_x=0.5)\n",
    "fig.show()"
   ]
  },
  {
   "cell_type": "code",
   "execution_count": 19,
   "metadata": {},
   "outputs": [],
   "source": [
    "interactive_Plot_Pickup_hexRes8_month = plotH3_HexagonMapInteractive(taxi_df, location='pickup', feature='all', aggregation='sum', time_interval='month', hexRes=8)"
   ]
  },
  {
   "cell_type": "code",
   "execution_count": 20,
   "metadata": {},
   "outputs": [],
   "source": [
    "interactive_Plot_Dropoff_hexRes8_month = plotH3_HexagonMapInteractive(taxi_df, location='dropoff', feature='all', aggregation='sum', time_interval='month', hexRes=8)"
   ]
  },
  {
   "cell_type": "code",
   "execution_count": 21,
   "metadata": {},
   "outputs": [
    {
     "data": {
      "text/html": [
       "<iframe\n",
       "    scrolling=\"no\"\n",
       "    width=\"820px\"\n",
       "    height=\"820\"\n",
       "    src=\"iframe_figures/figure_21.html\"\n",
       "    frameborder=\"0\"\n",
       "    allowfullscreen\n",
       "></iframe>\n"
      ]
     },
     "metadata": {},
     "output_type": "display_data"
    },
    {
     "data": {
      "text/html": [
       "<iframe\n",
       "    scrolling=\"no\"\n",
       "    width=\"820px\"\n",
       "    height=\"820\"\n",
       "    src=\"iframe_figures/figure_21.html\"\n",
       "    frameborder=\"0\"\n",
       "    allowfullscreen\n",
       "></iframe>\n"
      ]
     },
     "metadata": {},
     "output_type": "display_data"
    }
   ],
   "source": [
    "fig = px.choropleth_mapbox(interactive_Plot_Pickup_hexRes8_month,\n",
    "                        geojson=interactive_Plot_Pickup_hexRes8_month[['h3_index', 'geometry']].drop_duplicates(subset=['h3_index']), \n",
    "                        locations=interactive_Plot_Pickup_hexRes8_month.h3_index,\n",
    "                        featureidkey=\"properties.h3_index\",\n",
    "                        color='trip_count',\n",
    "                        animation_frame='month',\n",
    "                        mapbox_style='open-street-map', \n",
    "                        zoom=9.5,\n",
    "                        color_continuous_scale=[\n",
    "                            [0, viridis[0]],\n",
    "                            [1./1000000, viridis[2]],\n",
    "                            [1./10000, viridis[4]],\n",
    "                            [1./100, viridis[7]],\n",
    "                            [1., viridis[9]],\n",
    "                        ],\n",
    "                        opacity=0.5, \n",
    "                        range_color=[0, 300000],\n",
    "                        center={'lat': 41.84, 'lon': -87.723177},\n",
    "                        labels={'trip_count':'trip_count'},\n",
    "                        width=800,\n",
    "                        height=800)\n",
    "fig.update_layout(title_text='Trip count by pickup location for each month of year - Hexagon resolution 8 borders', title_x=0.5)\n",
    "fig.show()\n",
    "\n",
    "fig = px.choropleth_mapbox(interactive_Plot_Dropoff_hexRes8_month,\n",
    "                        geojson=interactive_Plot_Dropoff_hexRes8_month[['h3_index', 'geometry']].drop_duplicates(subset=['h3_index']), \n",
    "                        locations=interactive_Plot_Dropoff_hexRes8_month.h3_index,\n",
    "                        featureidkey=\"properties.h3_index\",\n",
    "                        color='trip_count',\n",
    "                        animation_frame='month',\n",
    "                        mapbox_style='open-street-map', \n",
    "                        zoom=9.5,\n",
    "                        color_continuous_scale=[\n",
    "                            [0, viridis[0]],\n",
    "                            [1./1000000, viridis[2]],\n",
    "                            [1./10000, viridis[4]],\n",
    "                            [1./100, viridis[7]],\n",
    "                            [1., viridis[9]],\n",
    "                        ],\n",
    "                        opacity=0.5, \n",
    "                        range_color=[0, 300000],\n",
    "                        center={'lat': 41.84, 'lon': -87.723177},\n",
    "                        labels={'trip_count':'trip_count'},\n",
    "                        width=800,\n",
    "                        height=800)\n",
    "fig.update_layout(title_text='Trip count by dropoff location for each month of year - Hexagon resolution 8 borders', title_x=0.5)\n",
    "fig.show()"
   ]
  },
  {
   "cell_type": "code",
   "execution_count": 22,
   "metadata": {},
   "outputs": [],
   "source": [
    "interactive_Plot_Pickup_hexRes8_weekday = plotH3_HexagonMapInteractive(taxi_df, location='pickup', feature='all', aggregation='sum', time_interval='weekday', hexRes=8)"
   ]
  },
  {
   "cell_type": "code",
   "execution_count": 23,
   "metadata": {},
   "outputs": [],
   "source": [
    "interactive_Plot_Dropoff_hexRes8_weekday = plotH3_HexagonMapInteractive(taxi_df, location='dropoff', feature='all', aggregation='sum', time_interval='weekday', hexRes=8)"
   ]
  },
  {
   "cell_type": "code",
   "execution_count": 24,
   "metadata": {},
   "outputs": [
    {
     "data": {
      "text/html": [
       "<iframe\n",
       "    scrolling=\"no\"\n",
       "    width=\"820px\"\n",
       "    height=\"820\"\n",
       "    src=\"iframe_figures/figure_24.html\"\n",
       "    frameborder=\"0\"\n",
       "    allowfullscreen\n",
       "></iframe>\n"
      ]
     },
     "metadata": {},
     "output_type": "display_data"
    },
    {
     "data": {
      "text/html": [
       "<iframe\n",
       "    scrolling=\"no\"\n",
       "    width=\"820px\"\n",
       "    height=\"820\"\n",
       "    src=\"iframe_figures/figure_24.html\"\n",
       "    frameborder=\"0\"\n",
       "    allowfullscreen\n",
       "></iframe>\n"
      ]
     },
     "metadata": {},
     "output_type": "display_data"
    }
   ],
   "source": [
    "fig = px.choropleth_mapbox(interactive_Plot_Pickup_hexRes8_weekday,\n",
    "                        geojson=interactive_Plot_Pickup_hexRes8_weekday[['h3_index', 'geometry']].drop_duplicates(subset=['h3_index']), \n",
    "                        locations=interactive_Plot_Pickup_hexRes8_weekday.h3_index,\n",
    "                        featureidkey=\"properties.h3_index\",\n",
    "                        color='trip_count',\n",
    "                        animation_frame='weekday',\n",
    "                        mapbox_style='open-street-map', \n",
    "                        zoom=9.5,\n",
    "                        color_continuous_scale=[\n",
    "                            [0, viridis[0]],\n",
    "                            [1./1000000, viridis[2]],\n",
    "                            [1./10000, viridis[4]],\n",
    "                            [1./100, viridis[7]],\n",
    "                            [1., viridis[9]],\n",
    "                        ],\n",
    "                        opacity=0.5, \n",
    "                        range_color=[0, 300000],\n",
    "                        center={'lat': 41.84, 'lon': -87.723177},\n",
    "                        labels={'trip_count':'trip_count'},\n",
    "                        width=800,\n",
    "                        height=800)\n",
    "fig.update_layout(title_text='Trip count by pickup location for each weekday - Hexagon resolution 8 borders', title_x=0.5)\n",
    "fig.show()\n",
    "\n",
    "fig = px.choropleth_mapbox(interactive_Plot_Dropoff_hexRes8_weekday,\n",
    "                        geojson=interactive_Plot_Dropoff_hexRes8_weekday[['h3_index', 'geometry']].drop_duplicates(subset=['h3_index']), \n",
    "                        locations=interactive_Plot_Dropoff_hexRes8_weekday.h3_index,\n",
    "                        featureidkey=\"properties.h3_index\",\n",
    "                        color='trip_count',\n",
    "                        animation_frame='weekday',\n",
    "                        mapbox_style='open-street-map', \n",
    "                        zoom=9.5,\n",
    "                        color_continuous_scale=[\n",
    "                            [0, viridis[0]],\n",
    "                            [1./1000000, viridis[2]],\n",
    "                            [1./10000, viridis[4]],\n",
    "                            [1./100, viridis[7]],\n",
    "                            [1., viridis[9]],\n",
    "                        ],\n",
    "                        opacity=0.5, \n",
    "                        range_color=[0, 300000],\n",
    "                        center={'lat': 41.84, 'lon': -87.723177},\n",
    "                        labels={'trip_count':'trip_count'},\n",
    "                        width=800,\n",
    "                        height=800)\n",
    "fig.update_layout(title_text='Trip count by dropoff location for each weekday - Hexagon resolution 8 borders', title_x=0.5)\n",
    "fig.show()"
   ]
  }
 ],
 "metadata": {
  "kernelspec": {
   "display_name": "Python 3 (ipykernel)",
   "language": "python",
   "name": "python3"
  },
  "language_info": {
   "codemirror_mode": {
    "name": "ipython",
    "version": 3
   },
   "file_extension": ".py",
   "mimetype": "text/x-python",
   "name": "python",
   "nbconvert_exporter": "python",
   "pygments_lexer": "ipython3",
   "version": "3.11.4"
  }
 },
 "nbformat": 4,
 "nbformat_minor": 4
}
