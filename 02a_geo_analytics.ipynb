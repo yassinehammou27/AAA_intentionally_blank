{
 "cells": [
  {
   "attachments": {},
   "cell_type": "markdown",
   "metadata": {},
   "source": [
    "# Geo analytics AAA - Intentionally Blank"
   ]
  },
  {
   "cell_type": "markdown",
   "metadata": {},
   "source": [
    "The census tract borders and the points of interest data were sourced from the following sites:\n",
    "- Census tract borders: https://www.census.gov/cgi-bin/geo/shapefiles/index.php?year=2016&layergroup=Census+Tracts\n",
    "- Points of interest data: https://overpass-turbo.eu/s/1yIY\n",
    "There is no need to manually download the files. Both files should be already in the data folder provided be the previously mentioned sciebo link.\n",
    "The notebook is split into two parts. This notebook visualizes static non time dependend census tract and hexagon bin data while the second notebook visualizes different temporal bin sizes."
   ]
  },
  {
   "cell_type": "markdown",
   "metadata": {},
   "source": [
    "**Dependencies needed for this notebook:**\n",
    "- Pandas\n",
    "- Numpy\n",
    "- Folium\n",
    "- H3-py (*conda install -c conda-forge h3-py*)\n",
    "- Matplotlib (*conda install -c conda-forge matplotlib*)\n",
    "- Geopandas (*conda install -c conda-forge geopandas*)\n",
    "  - Shapely (*conda install -c conda-forge shapely*)\n",
    "- Branca (most likely installed with Folium or Geopandas else: *conda install -c conda-forge branca*)\n",
    "- Pyarrow (*conda install pyarrow*)\n",
    "  - Needed for reading the taxi dataset from the parquet file\n"
   ]
  },
  {
   "cell_type": "markdown",
   "metadata": {},
   "source": [
    "## Imports and preparation"
   ]
  },
  {
   "cell_type": "code",
   "execution_count": null,
   "metadata": {},
   "outputs": [],
   "source": [
    "import json\n",
    "\n",
    "import pandas as pd\n",
    "import numpy as np\n",
    "\n",
    "import folium\n",
    "import h3\n",
    "import matplotlib.pyplot as plt\n",
    "import geopandas as gpd\n",
    "import branca.colormap as cm\n",
    "import shapely\n",
    "from shapely.geometry import shape"
   ]
  },
  {
   "cell_type": "markdown",
   "metadata": {},
   "source": [
    "First we import the needed files for the analysis."
   ]
  },
  {
   "cell_type": "code",
   "execution_count": null,
   "metadata": {},
   "outputs": [],
   "source": [
    "# Read taxi, census tract borders and points of interest data\n",
    "taxi_df = pd.read_parquet('data/prepared/taxi_data_prepared.gzip')\n",
    "census_tract_borders = gpd.read_file('data/chicago_census_tract_borders.zip')\n",
    "poi_df = gpd.read_file('data/POI.geojson')"
   ]
  },
  {
   "cell_type": "markdown",
   "metadata": {},
   "source": [
    "Afterwards we do some small preparation steps needed for later use."
   ]
  },
  {
   "cell_type": "code",
   "execution_count": null,
   "metadata": {},
   "outputs": [],
   "source": [
    "# Change pickup and dropoff location to geopandas geometry objects\n",
    "taxi_df['pickup_centroid_location'] = gpd.GeoSeries.from_wkt(taxi_df['pickup_centroid_location'])\n",
    "taxi_df['dropoff_centroid_location'] = gpd.GeoSeries.from_wkt(taxi_df['dropoff_centroid_location'])\n",
    "\n",
    "# Drop columns that are not needed for the analysis\n",
    "poi_df = poi_df.drop(columns= poi_df.columns.difference([\"amenity\", \"public_transport\",\"geometry\"]))\n",
    "census_tract_borders = census_tract_borders.drop(census_tract_borders.columns.difference(['GEOID', 'geometry']), axis=1)\n",
    "\n",
    "# Get all unique census tract ids from the taxi data and filter the census tract borders to only include those\n",
    "unique_census_tract_id = np.append(taxi_df['pickup_census_tract'].unique(), taxi_df['dropoff_census_tract'].unique()).astype('str')\n",
    "census_tract_borders= census_tract_borders[census_tract_borders['GEOID'].isin(unique_census_tract_id)].reset_index(drop=True)"
   ]
  },
  {
   "cell_type": "markdown",
   "metadata": {},
   "source": [
    "Here is a first look at the used data for an overview."
   ]
  },
  {
   "cell_type": "code",
   "execution_count": null,
   "metadata": {},
   "outputs": [],
   "source": [
    "# First look at the data\n",
    "poi_df"
   ]
  },
  {
   "cell_type": "markdown",
   "metadata": {},
   "source": [
    "The amenity column describes the type of point of interest while the public_transport column describes which type of station the point of interest is if it is a station to begin with."
   ]
  },
  {
   "cell_type": "code",
   "execution_count": null,
   "metadata": {},
   "outputs": [],
   "source": [
    "taxi_df"
   ]
  },
  {
   "cell_type": "code",
   "execution_count": null,
   "metadata": {},
   "outputs": [],
   "source": [
    "census_tract_borders"
   ]
  },
  {
   "cell_type": "markdown",
   "metadata": {},
   "source": [
    "## Census Tract Analysis"
   ]
  },
  {
   "cell_type": "markdown",
   "metadata": {},
   "source": [
    "Below is a helper function used to filter the features and aggregate the taxi dataframe by location, feature column and aggregation type. Furthermore it can be specified if all census tracts, which are present in the taxi dataframe, should be added to the output dataframe or not."
   ]
  },
  {
   "cell_type": "code",
   "execution_count": null,
   "metadata": {},
   "outputs": [],
   "source": [
    "def filterByFeatureStatic(dataframe, location='pickup', feature='all', aggregation='sum', missingCensusTract=False):\n",
    "    \"\"\" Filter a feature or all features of a dataframe. Furthermore aggregate the data by location and feature.\n",
    "\n",
    "    Parameters\n",
    "    ----------\n",
    "\n",
    "    dataframe :  (pandas.DataFrame) \n",
    "        The dataframe to plot.\n",
    "    location : (str) \n",
    "        The location column of the dataframe. Can be either 'pickup' or 'dropoff'. Default is 'pickup'.\n",
    "    feature : (str) \n",
    "        The feature to aggregate. If 'all', all features are aggregated. Default is 'all'\n",
    "    aggregation : (str)  \n",
    "        The aggregation function to use. Can be either 'mean', 'median', 'sum', 'count', 'min', 'max'. Default is 'sum'.\n",
    "    missingCensusTract : (bool)\n",
    "        If True, census tracts with no data are included in the plot. Default is False.\n",
    "\n",
    "    Returns\n",
    "    ----------\n",
    "\n",
    "    dataframe_grouped : (geopandas.GeoDataFrame) \n",
    "        The geodataframe grouped by the location column and the feature column. Contains always a geometry column and trip_count column.\n",
    "    \"\"\"\n",
    "    # Copy dataframe to not change the original dataframe\n",
    "    dataframe_grouped = dataframe.copy()\n",
    "\n",
    "    # Get all features or only the specified feature and save them in a list\n",
    "    if feature == 'all':\n",
    "        features = dataframe_grouped.columns.difference(['pickup_census_tract', 'dropoff_census_tract', 'pickup_centroid_location', 'dropoff_centroid_location', 'trip_start_timestamp', 'trip_end_timestamp', 'taxi_id']).tolist()\n",
    "    else:\n",
    "        features = [feature]\n",
    "    \n",
    "    # Append the location column to the features list and drop all other columns not in the features list\n",
    "    if location == 'pickup':\n",
    "        features.append('pickup_census_tract')\n",
    "        features.append('pickup_centroid_location')\n",
    "        dataframe_grouped = dataframe_grouped.drop(columns=dataframe_grouped.columns.difference(features))\n",
    "    elif location == 'dropoff':\n",
    "        features.append('dropoff_census_tract')\n",
    "        features.append('dropoff_centroid_location')\n",
    "        dataframe_grouped = dataframe_grouped.drop(columns=dataframe_grouped.columns.difference(features))\n",
    "    else:\n",
    "        raise ValueError(\"Location must be either 'pickup' or 'dropoff'.\")\n",
    "    \n",
    "    # Make a trip count column for later aggregation\n",
    "    dataframe_grouped['trip_count'] = dataframe_grouped[features[0]]\n",
    "    \n",
    "    # Group by the census tract id and the location centroid. Moreover aggregate the data by the specified aggregation function\n",
    "    dataframe_grouped = dataframe_grouped.groupby([location + '_census_tract', location + '_centroid_location']).agg(lambda column: column.agg('count') if column.name == 'trip_count' else column.agg(aggregation)).reset_index()\n",
    "    dataframe_grouped = dataframe_grouped.rename(columns={location + '_census_tract': 'GEOID'})\n",
    "    dataframe_grouped['GEOID'] = dataframe_grouped['GEOID'].astype('str')\n",
    "\n",
    "    # Add missing census tracts if specified\n",
    "    if missingCensusTract == True:\n",
    "        dataframe_grouped = dataframe_grouped.merge(census_tract_borders, on='GEOID', how='right')\n",
    "        dataframe_grouped = gpd.GeoDataFrame(dataframe_grouped)\n",
    "        dataframe_grouped[location + '_centroid_location'] = dataframe_grouped['geometry'].to_crs('+proj=cea').centroid.to_crs('EPSG:4326')\n",
    "        dataframe_grouped['geometry'] = dataframe_grouped['geometry'].to_crs('EPSG:4326')\n",
    "    else:\n",
    "        dataframe_grouped = dataframe_grouped.merge(census_tract_borders, on='GEOID', how='left')\n",
    "        dataframe_grouped = gpd.GeoDataFrame(dataframe_grouped)\n",
    "        dataframe_grouped[location + '_centroid_location'] = dataframe_grouped['geometry'].to_crs('+proj=cea').centroid.to_crs('EPSG:4326')\n",
    "        dataframe_grouped['geometry'] = dataframe_grouped['geometry'].to_crs('EPSG:4326')\n",
    "\n",
    "    # Add poi count to each census tract\n",
    "    dataframe_grouped['poi_count'] = dataframe_grouped.apply(lambda row: row['geometry'].contains(poi_df['geometry']).sum(), axis=1)\n",
    "    return dataframe_grouped\n"
   ]
  },
  {
   "cell_type": "code",
   "execution_count": null,
   "metadata": {},
   "outputs": [],
   "source": [
    "geo_df_taxi_pickup_sum = filterByFeatureStatic(taxi_df, missingCensusTract = True, feature='all', aggregation= \"sum\", location='pickup')"
   ]
  },
  {
   "cell_type": "code",
   "execution_count": null,
   "metadata": {},
   "outputs": [],
   "source": [
    "# Filter all POIs that are within the census tract borders\n",
    "\n",
    "poi_in_census_tract = gpd.sjoin(poi_df, geo_df_taxi_pickup_sum, how='inner', op='within')"
   ]
  },
  {
   "cell_type": "markdown",
   "metadata": {},
   "source": [
    "First we plot all points of interest to see how the points are distributed."
   ]
  },
  {
   "cell_type": "code",
   "execution_count": null,
   "metadata": {},
   "outputs": [],
   "source": [
    "# Add the title to the folium map\n",
    "loc = 'Points of interest within census tract borders'\n",
    "title_html = '''\n",
    "             <h3 align=\"center\" style=\"font-size:16px\"><b>{}</b></h3>\n",
    "             '''.format(loc)   \n",
    "\n",
    "m = folium.Map(location=(41.8,-87.723177), zoom_start=11)\n",
    "\n",
    "m.get_root().html.add_child(folium.Element(title_html))\n",
    "# Interactive map\n",
    "poi_in_census_tract.explore(tooltip=True, cmap=\"viridis\", m = m, style_kwds = {\"opacity\": 0.3, \"red\": \"red\", \"fillOpacity\": 0.3, \"fillColor\": 'red'}, marker_kwds = {\"radius\": 3})"
   ]
  },
  {
   "cell_type": "markdown",
   "metadata": {},
   "source": [
    "As we can see the center of chicago has the most points of interest. The distribution gets thinner going further away from the center. Furthermore if you look closer on the distribution we can see that the points of interest go mostly along the bigger streets."
   ]
  },
  {
   "cell_type": "markdown",
   "metadata": {},
   "source": [
    "Now we plot the points of interest in addition to a choropleth plot of the census tracts. We decided to plot most plots onwards on a logarithmic scale because the difference in demand is so great that only the center would be colored yellow and all other census tracts would appear purple."
   ]
  },
  {
   "cell_type": "code",
   "execution_count": null,
   "metadata": {},
   "outputs": [],
   "source": [
    "# Add the title to the folium map\n",
    "loc = 'POI count by census tract pickup location logaritmic scale'\n",
    "title_html = '''\n",
    "             <h3 align=\"center\" style=\"font-size:16px\"><b>{}</b></h3>\n",
    "             '''.format(loc)   \n",
    "\n",
    "m = folium.Map(location=(41.8,-87.723177), zoom_start=11)\n",
    "\n",
    "m.get_root().html.add_child(folium.Element(title_html))\n",
    "# Interactive map\n",
    "geo_df_taxi_pickup_sum[geo_df_taxi_pickup_sum['poi_count'] > 0].explore(column=np.log10(geo_df_taxi_pickup_sum[geo_df_taxi_pickup_sum['poi_count'] > 0]['poi_count']), tooltip=True, cmap=\"viridis\", m = m)"
   ]
  },
  {
   "cell_type": "markdown",
   "metadata": {},
   "source": [
    "The choropleth showing the density of the POIs makes it even more clear. The spider web similar distribution most likely comes from the more populated streets. The choropleth further shows that the center and the airports have a higher density of POIs."
   ]
  },
  {
   "cell_type": "code",
   "execution_count": null,
   "metadata": {},
   "outputs": [],
   "source": [
    "geo_df_taxi_dropoff_sum = filterByFeatureStatic(taxi_df, missingCensusTract = True, feature='all', aggregation= \"sum\", location='dropoff')"
   ]
  },
  {
   "cell_type": "markdown",
   "metadata": {},
   "source": [
    "We check if the demand depending on the trip count is distributed differently depending on the dropoff or pickup location."
   ]
  },
  {
   "cell_type": "code",
   "execution_count": null,
   "metadata": {},
   "outputs": [],
   "source": [
    "# Add the title to the folium map\n",
    "loc = 'Trip count by census tract pickup location logaritmic scale'\n",
    "title_html = '''\n",
    "             <h3 align=\"center\" style=\"font-size:16px\"><b>{}</b></h3>\n",
    "             '''.format(loc)   \n",
    "\n",
    "m = folium.Map(location=(41.8,-87.723177), zoom_start=11)\n",
    "\n",
    "m.get_root().html.add_child(folium.Element(title_html))\n",
    "geo_df_taxi_pickup_sum.explore(column=np.log10(geo_df_taxi_pickup_sum['trip_count']), tooltip=True, cmap=\"viridis\", m = m)"
   ]
  },
  {
   "cell_type": "code",
   "execution_count": null,
   "metadata": {},
   "outputs": [],
   "source": [
    "# Add the title to the folium map\n",
    "loc = 'Trip count by census tract dropoff location logaritmic scale'\n",
    "title_html = '''\n",
    "             <h3 align=\"center\" style=\"font-size:16px\"><b>{}</b></h3>\n",
    "             '''.format(loc)   \n",
    "\n",
    "m = folium.Map(location=(41.8,-87.723177), zoom_start=11)\n",
    "\n",
    "m.get_root().html.add_child(folium.Element(title_html))\n",
    "geo_df_taxi_dropoff_sum.explore(column=np.log10(geo_df_taxi_dropoff_sum['trip_count']), tooltip=True, cmap=\"viridis\", m = m)"
   ]
  },
  {
   "cell_type": "markdown",
   "metadata": {},
   "source": [
    "As we can see the overall distribution is nearly the same between the dropoff and pickup location. The only difference is that some census tracts have no entries for the dropoff or pickup locations which are visualized in grey."
   ]
  },
  {
   "cell_type": "markdown",
   "metadata": {},
   "source": [
    "Furthermore like previously mentioned we can see that the center of chicago, especially near the Navy Pier, has the most demand decreasing going further away from the center. There are two census tracts which are an exception to this trend: In the upper left and middle left we can see two census tracts that have high demand. If we look closer on the map we can see that those two census tracts have airports which could explain the spike in demand in comparison to the other census tracts near those two. One reason why the airports and the center/Navy Pier have the most trip counts could be the higher traffic in general around those areas. People landing with a plane generally do not have a car directly at the airport making and most likey have luggage with them. It is therefore more convenient to drive with a taxi instead of taking public transit. It goes the same for the Navy Pier when people come with the ship and another argument for the high demand near the pier could be the central location making it easy to reach POIs and to move to other places."
   ]
  },
  {
   "cell_type": "markdown",
   "metadata": {},
   "source": [
    "Now we plot the choropleth map dependent on the sum of the trip total per census tract. The trip total column correlates with the trip miles and trip seconds column because more revenue usually means that the trips were longer in time and distance. Furthermore the trip count is a good demand factor but the pattern could be different depending on the types of trips. The trip count in a census tract could be high but the trips themselves could be relatively short compared to other parts of chicago leading to less revenue overall. This could skew the perception of the demand."
   ]
  },
  {
   "cell_type": "code",
   "execution_count": null,
   "metadata": {},
   "outputs": [],
   "source": [
    "# Add the title to the folium map\n",
    "loc = 'Trip total by census tract pickup location logarithmic scale'\n",
    "title_html = '''\n",
    "             <h3 align=\"center\" style=\"font-size:16px\"><b>{}</b></h3>\n",
    "             '''.format(loc)   \n",
    "\n",
    "m = folium.Map(location=(41.8,-87.723177), zoom_start=11)\n",
    "\n",
    "m.get_root().html.add_child(folium.Element(title_html))\n",
    "geo_df_taxi_pickup_sum.explore(column=np.log10(geo_df_taxi_pickup_sum['trip_total']), tooltip=True, cmap=\"viridis\", m = m)"
   ]
  },
  {
   "cell_type": "markdown",
   "metadata": {},
   "source": [
    "As we can see the demand depending on the trip total and trip count correlates with eachother. The pattern looks similar if not identical to the trip count pattern."
   ]
  },
  {
   "cell_type": "markdown",
   "metadata": {},
   "source": [
    "In the below figure all features a plotted side by side to further observe the differences in the patterns between different features."
   ]
  },
  {
   "cell_type": "code",
   "execution_count": null,
   "metadata": {},
   "outputs": [],
   "source": [
    "fig, axd = plt.subplot_mosaic([['trip_total', 'trip_seconds'],\n",
    "                               ['trip_miles', 'idle_seconds'],\n",
    "                               ['trip_count', 'poi_count']],\n",
    "                              figsize=(18,30), layout=\"constrained\")\n",
    "fig.suptitle('Features plotted by census tract pickup location on a logarithmic scale', fontsize=16)\n",
    "geo_df_taxi_pickup_sum.plot(column=np.log10(geo_df_taxi_pickup_sum['trip_total']), cmap=\"viridis\", legend=True,missing_kwds={'color': 'lightgrey'}, ax=axd['trip_total'], legend_kwds={\"label\": \"Sum of Revenue (in dollar)\", \"orientation\": \"horizontal\"})\n",
    "geo_df_taxi_pickup_sum.plot(column=np.log10(geo_df_taxi_pickup_sum['trip_seconds']), cmap=\"viridis\", legend=True,missing_kwds={'color': 'lightgrey'}, ax=axd['trip_seconds'], legend_kwds={\"label\": \"Sum of trip time in seconds\", \"orientation\": \"horizontal\"})\n",
    "geo_df_taxi_pickup_sum.plot(column=np.log10(geo_df_taxi_pickup_sum['trip_miles']), cmap=\"viridis\", legend=True,missing_kwds={'color': 'lightgrey'}, ax=axd['trip_miles'], legend_kwds={\"label\": \"Sum of trip miles in seconds\", \"orientation\": \"horizontal\"})\n",
    "geo_df_taxi_pickup_sum[geo_df_taxi_pickup_sum['idle_seconds'] > 0 | geo_df_taxi_pickup_sum['idle_seconds'].isna()].plot(column=np.log10(geo_df_taxi_pickup_sum[geo_df_taxi_pickup_sum['idle_seconds'] > 0  | geo_df_taxi_pickup_sum['idle_seconds'].isna()]['idle_seconds']),  cmap=\"viridis\", legend=True, missing_kwds={'color': 'lightgrey'}, ax=axd['idle_seconds'], legend_kwds={\"label\": \"Sum of idle time in seconds\", \"orientation\": \"horizontal\"})\n",
    "geo_df_taxi_pickup_sum.plot(column=np.log10(geo_df_taxi_pickup_sum['trip_count']), cmap=\"viridis\", legend=True,missing_kwds={'color': 'lightgrey'}, ax=axd['trip_count'], legend_kwds={\"label\": \"Sum of Trips\", \"orientation\": \"horizontal\"})\n",
    "geo_df_taxi_pickup_sum[geo_df_taxi_pickup_sum['poi_count'] > 0  | geo_df_taxi_pickup_sum['poi_count'].isna()].plot(column=np.log10(geo_df_taxi_pickup_sum[geo_df_taxi_pickup_sum['poi_count'] > 0  | geo_df_taxi_pickup_sum['poi_count'].isna()]['poi_count']), cmap=\"viridis\", legend=True, missing_kwds={'color': 'lightgrey'}, ax=axd['poi_count'], legend_kwds={\"label\": \"Sum of points of interest\", \"orientation\": \"horizontal\"})"
   ]
  },
  {
   "cell_type": "markdown",
   "metadata": {},
   "source": [
    "From the plot we can see that each feature follows a similar trend which makes sense because most features correlate with eachother. It is worth noting that the idle time plot is the least meaningful plot of the six because for the idle time we should look more at the mean as a metric instead of the sum which is heavily influenced by the trip count."
   ]
  },
  {
   "cell_type": "code",
   "execution_count": null,
   "metadata": {},
   "outputs": [],
   "source": [
    "geo_df_taxi_pickup_mean = filterByFeatureStatic(taxi_df, missingCensusTract = True, feature='all', aggregation= \"mean\", location='pickup')"
   ]
  },
  {
   "cell_type": "markdown",
   "metadata": {},
   "source": [
    "Next we look at the means of all features grouped by the pickup location. From the previous plots we can infer that the center of the city and the airports are the areas with the most demand but it can be worth looking at the averages for additional patterns. For this we plot the averages for the revenue, trip seconds, trip miles and idle seconds but we also plot the trip count and total points of interest for comparison."
   ]
  },
  {
   "cell_type": "code",
   "execution_count": null,
   "metadata": {},
   "outputs": [],
   "source": [
    "fig, axd = plt.subplot_mosaic([['trip_total', 'trip_seconds'],\n",
    "                               ['trip_miles', 'idle_seconds'],\n",
    "                               ['trip_count', 'poi_count']],\n",
    "                              figsize=(18,30), layout=\"constrained\")\n",
    "fig.suptitle('Features plotted by census tract pickup location on a linear scale', fontsize=16)\n",
    "geo_df_taxi_pickup_mean.plot(column=geo_df_taxi_pickup_mean['trip_total'], cmap=\"viridis\", legend=True,missing_kwds={'color': 'lightgrey'},vmax= geo_df_taxi_pickup_mean['trip_total'].quantile(0.75), ax=axd['trip_total'], legend_kwds={\"label\": \"Mean of Revenue (in dollar)\", \"orientation\": \"horizontal\"})\n",
    "geo_df_taxi_pickup_mean.plot(column=geo_df_taxi_pickup_mean['trip_seconds'], cmap=\"viridis\", legend=True,missing_kwds={'color': 'lightgrey'},vmax= geo_df_taxi_pickup_mean['trip_seconds'].quantile(0.75), ax=axd['trip_seconds'], legend_kwds={\"label\": \"Mean of trip time in seconds\", \"orientation\": \"horizontal\"})\n",
    "geo_df_taxi_pickup_mean.plot(column=geo_df_taxi_pickup_mean['trip_miles'], cmap=\"viridis\", legend=True,missing_kwds={'color': 'lightgrey'},vmax= geo_df_taxi_pickup_mean['trip_miles'].quantile(0.75), ax=axd['trip_miles'], legend_kwds={\"label\": \"Mean of trip miles in seconds\", \"orientation\": \"horizontal\"})\n",
    "geo_df_taxi_pickup_mean[(geo_df_taxi_pickup_mean['idle_seconds'] > 0) | geo_df_taxi_pickup_mean['idle_seconds'].isna()].plot(column=geo_df_taxi_pickup_mean[(geo_df_taxi_pickup_mean['idle_seconds'] > 0) | geo_df_taxi_pickup_mean['idle_seconds'].isna()]['idle_seconds'],  cmap=\"viridis\", legend=True, missing_kwds={'color': 'lightgrey'},vmax= geo_df_taxi_pickup_mean['idle_seconds'].quantile(0.75), ax=axd['idle_seconds'], legend_kwds={\"label\": \"Mean of idle time in seconds\", \"orientation\": \"horizontal\"})\n",
    "geo_df_taxi_pickup_mean.plot(column=np.log10(geo_df_taxi_pickup_mean['trip_count']), cmap=\"viridis\", legend=True,missing_kwds={'color': 'lightgrey'}, ax=axd['trip_count'], legend_kwds={\"label\": \"Sum of Trips\", \"orientation\": \"horizontal\"})\n",
    "geo_df_taxi_pickup_mean[geo_df_taxi_pickup_mean['poi_count'] > 0 | geo_df_taxi_pickup_mean['poi_count'].isna()].plot(column=np.log10(geo_df_taxi_pickup_mean[geo_df_taxi_pickup_mean['poi_count'] > 0 | geo_df_taxi_pickup_mean['poi_count'].isna()]['poi_count']), cmap=\"viridis\", legend=True, missing_kwds={'color': 'lightgrey'}, ax=axd['poi_count'], legend_kwds={\"label\": \"Sum of points of interest\", \"orientation\": \"horizontal\"})"
   ]
  },
  {
   "cell_type": "markdown",
   "metadata": {},
   "source": [
    "Again, Revenue, trip seconds and trip miles have similar patterns because of their correlation. All three features have less revenue and shorter trips in time and distance at the center which gets more going further from the center. The idle seconds also follow a similar trend but with more outliers. It is worth noting that a factor for the patterns could be the less available data in the less demanded areas with low trip counts which could lead to statistical errors and false patterns."
   ]
  },
  {
   "cell_type": "markdown",
   "metadata": {},
   "source": [
    "## Hexagon bin analysis"
   ]
  },
  {
   "cell_type": "markdown",
   "metadata": {},
   "source": [
    "As in the previous chapter, below is a helper function used to filter the features and aggregate the taxi dataframe by location, feature column and aggregation type. Furthermore it can be specified if all census tracts, which are present in the taxi dataframe, should be added to the output dataframe or not. Another difference is the 'hexRes' parameter which specifies the resolution of the hexagon bins."
   ]
  },
  {
   "cell_type": "code",
   "execution_count": null,
   "metadata": {},
   "outputs": [],
   "source": [
    "def plotH3_HexagonMap(dataframe, location='pickup', feature='all', aggregation='sum', missingCensusTract=False, hexRes = 8):\n",
    "    \"\"\" Plot a feature of a dataframe on a map.\n",
    "\n",
    "    Parameters\n",
    "    ----------\n",
    "\n",
    "    dataframe :  (pandas.DataFrame) \n",
    "        The dataframe to plot.\n",
    "    location : (str) \n",
    "        The location column of the dataframe. Can be either 'pickup' or 'dropoff'. Default is 'pickup'.\n",
    "    feature : (str) \n",
    "        The feature to aggregate. If 'all', all features are aggregated. Default is 'all'\n",
    "    aggregation : (str)  \n",
    "        The aggregation function to use. Can be either 'mean', 'median', 'sum', 'count', 'min', 'max'. Default is 'sum'.\n",
    "    missingCensusTract : (bool)\n",
    "        If True, census tracts with no data are included in the plot. Default is False.\n",
    "    hexRes : (int)\n",
    "        H3 hexagon resolution size. Default is 8.\n",
    "    Returns\n",
    "    ----------\n",
    "\n",
    "    taxi_df_geo_grouped : (geopandas.GeoDataFrame) \n",
    "        The geodataframe grouped by the location column and the feature column. Contains always a geometry column and trip_count column.\n",
    "    \"\"\"\n",
    "    taxi_df_geo = filterByFeatureStatic(dataframe, location= location,feature = feature, aggregation = aggregation, missingCensusTract = missingCensusTract)\n",
    "    # geometry to h3 index\n",
    "    taxi_df_geo['h3_index'] = taxi_df_geo.apply(lambda row: h3.geo_to_h3(row[location + '_centroid_location'].y, row[location + '_centroid_location'].x, hexRes), axis=1)\n",
    "\n",
    "    geojson = []\n",
    "    geometries = []\n",
    "    indexes = []\n",
    "\n",
    "    for geometry in taxi_df_geo['geometry']:\n",
    "        geojson.append(shapely.to_geojson(geometry))\n",
    "\n",
    "    for geometry in geojson:\n",
    "        obj = json.loads(geometry)\n",
    "        h3_indexes = h3.polyfill(obj, hexRes ,True)\n",
    "        for index in h3_indexes:\n",
    "            geometries.append(shape({\"type\": \"Polygon\",\n",
    "                    \"coordinates\": [h3.h3_to_geo_boundary(index, geo_json=True)],\n",
    "                    \"properties\": \"\"\n",
    "                    }))\n",
    "            indexes.append(index)   \n",
    "    taxi_df_geo.drop(columns= ['geometry', 'pickup_centroid_location', 'GEOID'], inplace = True)\n",
    "    df_h3_polyfilled = pd.DataFrame({'h3_index': indexes})\n",
    "    taxi_df_geo_grouped = taxi_df_geo.groupby('h3_index').agg(aggregation).reset_index()\n",
    "    taxi_df_geo_grouped = taxi_df_geo_grouped.merge(df_h3_polyfilled, on='h3_index', how='outer')\n",
    "    taxi_df_geo_grouped['geometry'] = taxi_df_geo_grouped.apply(lambda row: shape({\"type\": \"Polygon\",\n",
    "                                           \"coordinates\": [h3.h3_to_geo_boundary(row[\"h3_index\"], geo_json=True)],\n",
    "                                           \"properties\": \"\"\n",
    "                                           }), axis=1)\n",
    "    taxi_df_geo_grouped.loc[taxi_df_geo_grouped['trip_count'] == 0,'trip_count'] = np.nan\n",
    "    taxi_df_geo_grouped.loc[taxi_df_geo_grouped['trip_miles'] == 0,'trip_miles'] = np.nan\n",
    "    taxi_df_geo_grouped.loc[taxi_df_geo_grouped['trip_seconds'] == 0,'trip_seconds'] = np.nan\n",
    "    taxi_df_geo_grouped.loc[taxi_df_geo_grouped['trip_total'] == 0,'trip_total'] = np.nan\n",
    "    taxi_df_geo_grouped = gpd.GeoDataFrame(taxi_df_geo_grouped, crs='EPSG:4326', geometry='geometry')\n",
    "\n",
    "    taxi_df_geo_grouped['poi_count'] = taxi_df_geo_grouped.apply(lambda row: row['geometry'].contains(poi_df['geometry']).sum(), axis=1)    \n",
    "    return taxi_df_geo_grouped\n"
   ]
  },
  {
   "cell_type": "markdown",
   "metadata": {},
   "source": [
    "First we need the right hexagon resolutions. For this we test 4, 7, 8 and 9 as resolution showcasing too big hexagons and too small ones."
   ]
  },
  {
   "cell_type": "code",
   "execution_count": null,
   "metadata": {},
   "outputs": [],
   "source": [
    "geo_df_taxi_h3_pickup_sum_res4 = plotH3_HexagonMap(taxi_df, location='pickup', feature='all', aggregation='sum', missingCensusTract=True, hexRes= 4)"
   ]
  },
  {
   "cell_type": "markdown",
   "metadata": {},
   "source": [
    "First we plot the hexagon bins with a resolution of 4."
   ]
  },
  {
   "cell_type": "code",
   "execution_count": null,
   "metadata": {},
   "outputs": [],
   "source": [
    "# Add the title to the folium map\n",
    "loc = 'Trip count by h3 hexagon pickup location logaritmic scale - Resolution 4'\n",
    "title_html = '''\n",
    "             <h3 align=\"center\" style=\"font-size:16px\"><b>{}</b></h3>\n",
    "             '''.format(loc)   \n",
    "\n",
    "m = folium.Map(location=(41.8,-87.723177), zoom_start=11)\n",
    "\n",
    "m.get_root().html.add_child(folium.Element(title_html))\n",
    "geo_df_taxi_h3_pickup_sum_res4.explore(column=geo_df_taxi_h3_pickup_sum_res4['trip_count'], vmax = geo_df_taxi_h3_pickup_sum_res4['trip_count'].quantile(0.75), tooltip=True, cmap=\"viridis\", m = m)"
   ]
  },
  {
   "cell_type": "markdown",
   "metadata": {},
   "source": [
    "From the map above we can see that the areas are too broad to really observe and analyze patterns. We can still see that the center has the most demand but not the finer gradient. Furthermore the hexagons span over more than the census tract borders."
   ]
  },
  {
   "cell_type": "code",
   "execution_count": null,
   "metadata": {},
   "outputs": [],
   "source": [
    "geo_df_taxi_h3_pickup_sum_res7 = plotH3_HexagonMap(taxi_df, location='pickup', feature='all', aggregation='sum', missingCensusTract=True, hexRes= 7)"
   ]
  },
  {
   "cell_type": "code",
   "execution_count": null,
   "metadata": {},
   "outputs": [],
   "source": [
    "# Add the title to the folium map\n",
    "loc = 'Trip total by h3 hexagon pickup location logarithmic scale - Resolution 7'\n",
    "title_html = '''\n",
    "             <h3 align=\"center\" style=\"font-size:16px\"><b>{}</b></h3>\n",
    "             '''.format(loc)   \n",
    "\n",
    "m = folium.Map(location=(41.8,-87.723177), zoom_start=11)\n",
    "\n",
    "m.get_root().html.add_child(folium.Element(title_html))\n",
    "geo_df_taxi_h3_pickup_sum_res7.explore(column=np.log10(geo_df_taxi_h3_pickup_sum_res7['trip_total']), tooltip=True, cmap=\"viridis\", m = m)"
   ]
  },
  {
   "cell_type": "markdown",
   "metadata": {},
   "source": [
    "The map looks much clearer on a higher resolution. At a resolution of 7 we can already recognize the pattern from the census tract analysis."
   ]
  },
  {
   "cell_type": "code",
   "execution_count": null,
   "metadata": {},
   "outputs": [],
   "source": [
    "geo_df_taxi_h3_pickup_sum_res8 = plotH3_HexagonMap(taxi_df, location='pickup', feature='all', aggregation='sum', missingCensusTract=True, hexRes= 8)"
   ]
  },
  {
   "cell_type": "code",
   "execution_count": null,
   "metadata": {},
   "outputs": [],
   "source": [
    "# Add the title to the folium map\n",
    "loc = 'Trip total by h3 hexagon pickup location logarithmic scale - Resolution 8'\n",
    "title_html = '''\n",
    "             <h3 align=\"center\" style=\"font-size:16px\"><b>{}</b></h3>\n",
    "             '''.format(loc)   \n",
    "\n",
    "m = folium.Map(location=(41.8,-87.723177), zoom_start=11)\n",
    "\n",
    "m.get_root().html.add_child(folium.Element(title_html))\n",
    "geo_df_taxi_h3_pickup_sum_res8.explore(column=np.log10(geo_df_taxi_h3_pickup_sum_res8['trip_total']), tooltip=True, cmap=\"viridis\", m = m)"
   ]
  },
  {
   "cell_type": "markdown",
   "metadata": {},
   "source": [
    "At resolution 8 we can observe finer transitions in demand between neighboring hexagon bins but also the problem of smaller hexagon bins gets apparent. At a higher resolution more gaps emerge with no data available."
   ]
  },
  {
   "cell_type": "code",
   "execution_count": null,
   "metadata": {},
   "outputs": [],
   "source": [
    "geo_df_taxi_h3_pickup_sum_res9 = plotH3_HexagonMap(taxi_df, location='pickup', feature='all', aggregation='sum', missingCensusTract=True, hexRes= 9)"
   ]
  },
  {
   "cell_type": "code",
   "execution_count": null,
   "metadata": {},
   "outputs": [],
   "source": [
    "# Add the title to the folium map\n",
    "loc = 'Trip total by h3 hexagon pickup location logarithmic scale - Resolution 9'\n",
    "title_html = '''\n",
    "             <h3 align=\"center\" style=\"font-size:16px\"><b>{}</b></h3>\n",
    "             '''.format(loc)   \n",
    "\n",
    "m = folium.Map(location=(41.8,-87.723177), zoom_start=11)\n",
    "\n",
    "m.get_root().html.add_child(folium.Element(title_html))\n",
    "geo_df_taxi_h3_pickup_sum_res9.explore(column=np.log10(geo_df_taxi_h3_pickup_sum_res9['trip_total']), tooltip=True, cmap=\"viridis\", m = m)"
   ]
  },
  {
   "cell_type": "markdown",
   "metadata": {},
   "source": [
    "Taking it one resolution further the problem with higher resolution gets more clear. We can still observe the demand to some degree but the increase in gaps of data gets more apparent. Such high resolution is not optimal for the type of data we use but could be useful for data with a higher variance in location points. Even from a resolution of 9 we can derive that the trip location points are not saved on the exact location because of privacy reasons which should be kept in mind for the conclusions taken from the plots."
   ]
  },
  {
   "cell_type": "markdown",
   "metadata": {},
   "source": [
    "After showcasing different resolutions, we decide to use a resolution of 8 for the following maps. A resolution of 8 does have more gaps in comparison to a resolution of 7 but the patterns seem more clear because of the finer hexagons. Both resolutions still seem like a good choice for this specific use case."
   ]
  },
  {
   "cell_type": "code",
   "execution_count": null,
   "metadata": {},
   "outputs": [],
   "source": [
    "# Add the title to the folium map\n",
    "loc = 'POI count by h3 hexagon pickup location logarithmic scale - Resolution 8'\n",
    "title_html = '''\n",
    "             <h3 align=\"center\" style=\"font-size:16px\"><b>{}</b></h3>\n",
    "             '''.format(loc)   \n",
    "\n",
    "m = folium.Map(location=(41.8,-87.723177), zoom_start=11)\n",
    "\n",
    "m.get_root().html.add_child(folium.Element(title_html))\n",
    "geo_df_taxi_h3_pickup_sum_res8[geo_df_taxi_h3_pickup_sum_res8['poi_count'] > 0].explore(column=np.log10(geo_df_taxi_h3_pickup_sum_res8[geo_df_taxi_h3_pickup_sum_res8['poi_count'] > 0]['poi_count']), tooltip=True, cmap=\"viridis\", m = m)"
   ]
  },
  {
   "cell_type": "code",
   "execution_count": null,
   "metadata": {},
   "outputs": [],
   "source": [
    "# Add the title to the folium map\n",
    "loc = 'Trip total by census tract pickup location logarithmic scale - Resolution 8'\n",
    "title_html = '''\n",
    "             <h3 align=\"center\" style=\"font-size:16px\"><b>{}</b></h3>\n",
    "             '''.format(loc)   \n",
    "\n",
    "m = folium.Map(location=(41.8,-87.723177), zoom_start=11)\n",
    "\n",
    "m.get_root().html.add_child(folium.Element(title_html))\n",
    "geo_df_taxi_h3_pickup_sum_res8.explore(column=np.log10(geo_df_taxi_h3_pickup_sum_res8['trip_total']), tooltip=True, cmap=\"viridis\", m = m)"
   ]
  },
  {
   "cell_type": "markdown",
   "metadata": {},
   "source": [
    "From the previous figures we can see the same patterns as in the census tract chapter. The advantage of hexagon bins are that their size is uniform which makes it easier to see the patterns and transitions."
   ]
  },
  {
   "cell_type": "markdown",
   "metadata": {},
   "source": [
    "Below we also plotted the sums and averages for all features depending on the hexagon bins for comparison with the last chapter plotted census tract plots."
   ]
  },
  {
   "cell_type": "code",
   "execution_count": null,
   "metadata": {},
   "outputs": [],
   "source": [
    "fig, axd = plt.subplot_mosaic([['trip_total', 'trip_seconds'],\n",
    "                               ['trip_miles', 'idle_seconds'],\n",
    "                               ['trip_count', 'poi_count']],\n",
    "                              figsize=(18,30), layout=\"constrained\")\n",
    "fig.suptitle('Features plotted by hexagon bins on a logarithmic scale - Resolution 8', fontsize=16)\n",
    "geo_df_taxi_h3_pickup_sum_res8.plot(column=np.log10(geo_df_taxi_h3_pickup_sum_res8['trip_total']), cmap=\"viridis\", legend=True,missing_kwds={'color': 'lightgrey'}, ax=axd['trip_total'], legend_kwds={\"label\": \"Sum of Revenue (in dollar)\", \"orientation\": \"horizontal\"})\n",
    "geo_df_taxi_h3_pickup_sum_res8.plot(column=np.log10(geo_df_taxi_h3_pickup_sum_res8['trip_seconds']), cmap=\"viridis\", legend=True,missing_kwds={'color': 'lightgrey'}, ax=axd['trip_seconds'], legend_kwds={\"label\": \"Sum of trip time in seconds\", \"orientation\": \"horizontal\"})\n",
    "geo_df_taxi_h3_pickup_sum_res8.plot(column=np.log10(geo_df_taxi_h3_pickup_sum_res8['trip_miles']), cmap=\"viridis\", legend=True,missing_kwds={'color': 'lightgrey'}, ax=axd['trip_miles'], legend_kwds={\"label\": \"Sum of trip miles in seconds\", \"orientation\": \"horizontal\"})\n",
    "geo_df_taxi_h3_pickup_sum_res8[(geo_df_taxi_h3_pickup_sum_res8['idle_seconds'] > 0) | geo_df_taxi_h3_pickup_sum_res8['idle_seconds'].isna()].plot(column=np.log10(geo_df_taxi_h3_pickup_sum_res8[(geo_df_taxi_h3_pickup_sum_res8['idle_seconds'] > 0) | geo_df_taxi_h3_pickup_sum_res8['idle_seconds'].isna()]['idle_seconds']),  cmap=\"viridis\", legend=True,missing_kwds={'color': 'lightgrey'}, ax=axd['idle_seconds'], legend_kwds={\"label\": \"Sum of idle time in seconds\", \"orientation\": \"horizontal\"})\n",
    "geo_df_taxi_h3_pickup_sum_res8.plot(column=np.log10(geo_df_taxi_h3_pickup_sum_res8['trip_count']), cmap=\"viridis\", legend=True,missing_kwds={'color': 'lightgrey'}, ax=axd['trip_count'], legend_kwds={\"label\": \"Sum of Trips\", \"orientation\": \"horizontal\"})\n",
    "geo_df_taxi_h3_pickup_sum_res8[geo_df_taxi_h3_pickup_sum_res8['poi_count'] > 0  | geo_df_taxi_h3_pickup_sum_res8['poi_count'].isna()].plot(column=np.log10(geo_df_taxi_h3_pickup_sum_res8[geo_df_taxi_h3_pickup_sum_res8['poi_count'] > 0  | geo_df_taxi_h3_pickup_sum_res8['poi_count'].isna()]['poi_count']), cmap=\"viridis\", legend=True, missing_kwds={'color': 'lightgrey'}, ax=axd['poi_count'], legend_kwds={\"label\": \"Sum of points of interest\", \"orientation\": \"horizontal\"})\n",
    "geo_df_taxi_pickup_mean[geo_df_taxi_pickup_mean['poi_count'] > 0 | geo_df_taxi_pickup_mean['poi_count'].isna()].plot(column=np.log10(geo_df_taxi_pickup_mean[geo_df_taxi_pickup_mean['poi_count'] > 0 | geo_df_taxi_pickup_mean['poi_count'].isna()]['poi_count']), cmap=\"viridis\", legend=True, missing_kwds={'color': 'lightgrey'}, ax=axd['poi_count'], legend_kwds={\"label\": \"Sum of points of interest\", \"orientation\": \"horizontal\"})"
   ]
  },
  {
   "cell_type": "code",
   "execution_count": null,
   "metadata": {},
   "outputs": [],
   "source": [
    "geo_df_taxi_h3_pickup_mean_res8 = plotH3_HexagonMap(taxi_df, location='pickup', feature='all', aggregation='mean', missingCensusTract=True, hexRes= 8)"
   ]
  },
  {
   "cell_type": "code",
   "execution_count": null,
   "metadata": {},
   "outputs": [],
   "source": [
    "fig, axd = plt.subplot_mosaic([['trip_total', 'trip_seconds'],\n",
    "                               ['trip_miles', 'idle_seconds'],\n",
    "                               ['trip_count', 'poi_count']],\n",
    "                              figsize=(18,30), layout=\"constrained\")\n",
    "fig.suptitle('Features plotted by hexagon bins on a linear scale - Resolution 8', fontsize=16)\n",
    "geo_df_taxi_h3_pickup_mean_res8.plot(column=geo_df_taxi_h3_pickup_mean_res8['trip_total'], cmap=\"viridis\", legend=True,missing_kwds={'color': 'lightgrey'},vmax= geo_df_taxi_h3_pickup_mean_res8['trip_total'].quantile(0.75), ax=axd['trip_total'], legend_kwds={\"label\": \"Sum of Revenue (in dollar)\", \"orientation\": \"horizontal\"})\n",
    "geo_df_taxi_h3_pickup_mean_res8.plot(column=geo_df_taxi_h3_pickup_mean_res8['trip_seconds'], cmap=\"viridis\", legend=True,missing_kwds={'color': 'lightgrey'},vmax= geo_df_taxi_h3_pickup_mean_res8['trip_seconds'].quantile(0.75), ax=axd['trip_seconds'], legend_kwds={\"label\": \"Sum of trip time in seconds\", \"orientation\": \"horizontal\"})\n",
    "geo_df_taxi_h3_pickup_mean_res8.plot(column=geo_df_taxi_h3_pickup_mean_res8['trip_miles'], cmap=\"viridis\", legend=True,missing_kwds={'color': 'lightgrey'},vmax= geo_df_taxi_h3_pickup_mean_res8['trip_miles'].quantile(0.75), ax=axd['trip_miles'], legend_kwds={\"label\": \"Sum of trip miles in seconds\", \"orientation\": \"horizontal\"})\n",
    "geo_df_taxi_h3_pickup_mean_res8[(geo_df_taxi_h3_pickup_mean_res8['idle_seconds'] > 0) | geo_df_taxi_h3_pickup_mean_res8['idle_seconds'].isna()].plot(column=geo_df_taxi_h3_pickup_mean_res8[(geo_df_taxi_h3_pickup_mean_res8['idle_seconds'] > 0) | geo_df_taxi_h3_pickup_mean_res8['idle_seconds'].isna()]['idle_seconds'],  cmap=\"viridis\", legend=True,missing_kwds={'color': 'lightgrey'},vmax= geo_df_taxi_pickup_mean['idle_seconds'].quantile(0.75), ax=axd['idle_seconds'], legend_kwds={\"label\": \"Sum of idle time in seconds\", \"orientation\": \"horizontal\"})\n",
    "geo_df_taxi_h3_pickup_mean_res8.plot(column=np.log10(geo_df_taxi_h3_pickup_mean_res8['trip_count']), cmap=\"viridis\", legend=True,missing_kwds={'color': 'lightgrey'}, ax=axd['trip_count'], legend_kwds={\"label\": \"Sum of Trips\", \"orientation\": \"horizontal\"})\n",
    "geo_df_taxi_h3_pickup_mean_res8[geo_df_taxi_h3_pickup_mean_res8['poi_count'] > 0 | geo_df_taxi_h3_pickup_mean_res8['poi_count'].isna()].plot(column=np.log10(geo_df_taxi_h3_pickup_mean_res8[geo_df_taxi_h3_pickup_mean_res8['poi_count'] > 0 | geo_df_taxi_h3_pickup_mean_res8['poi_count'].isna()]['poi_count']), cmap=\"viridis\", legend=True, missing_kwds={'color': 'lightgrey'}, ax=axd['poi_count'], legend_kwds={\"label\": \"Sum of points of interest\", \"orientation\": \"horizontal\"})"
   ]
  },
  {
   "cell_type": "markdown",
   "metadata": {},
   "source": [
    "In conclusion to this part we can say that the observed patterns can be derived from both the census tract plots and the hexagon bin plots. From an overall view we recommend using hexagon bins over census tract borders because the patterns and transitions look much clearer. Furthermore the resolution highly depends on the type of data and the overall use case. On a city scale a resolution of 7 or 8 is optimal but if the geospatial obervation is on a state scale or a neighborhood scale instead of a city scale we recommend a lower or higher resolution."
   ]
  },
  {
   "cell_type": "markdown",
   "metadata": {},
   "source": [
    "The geo analysis for the temporal bins can be found in the [02b_geo_analytics_time_series.ipynb](./02b_geo_analytics_time_series.ipynb)."
   ]
  },
  {
   "cell_type": "markdown",
   "metadata": {},
   "source": []
  }
 ],
 "metadata": {
  "kernelspec": {
   "display_name": "Python 3 (ipykernel)",
   "language": "python",
   "name": "python3"
  },
  "language_info": {
   "codemirror_mode": {
    "name": "ipython",
    "version": 3
   },
   "file_extension": ".py",
   "mimetype": "text/x-python",
   "name": "python",
   "nbconvert_exporter": "python",
   "pygments_lexer": "ipython3",
   "version": "3.11.4"
  }
 },
 "nbformat": 4,
 "nbformat_minor": 4
}
