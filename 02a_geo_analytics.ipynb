{
 "cells": [
  {
   "attachments": {},
   "cell_type": "markdown",
   "metadata": {},
   "source": [
    "# Geo analytics AAA - Intentionally Blank"
   ]
  },
  {
   "attachments": {},
   "cell_type": "markdown",
   "metadata": {},
   "source": [
    "Census_tracts_borders = \n",
    "https://www.census.gov/cgi-bin/geo/shapefiles/index.php?year=2016&layergroup=Census+Tracts"
   ]
  },
  {
   "cell_type": "code",
   "execution_count": null,
   "metadata": {},
   "outputs": [],
   "source": [
    "import json\n",
    "\n",
    "import pandas as pd\n",
    "import numpy as np\n",
    "\n",
    "import folium\n",
    "import h3\n",
    "import matplotlib.pyplot as plt\n",
    "import geopandas as gpd\n",
    "import branca.colormap as cm\n",
    "import shapely\n",
    "from shapely.geometry import shape"
   ]
  },
  {
   "cell_type": "code",
   "execution_count": null,
   "metadata": {},
   "outputs": [],
   "source": [
    "taxi_df = pd.read_parquet('data/prepared/taxi_data_prepared.gzip')\n",
    "taxi_df['pickup_centroid_location'] = gpd.GeoSeries.from_wkt(taxi_df['pickup_centroid_location'])\n",
    "taxi_df['dropoff_centroid_location'] = gpd.GeoSeries.from_wkt(taxi_df['dropoff_centroid_location'])\n",
    "census_tract_borders = gpd.read_file('data/chicago_census_tract_borders.zip')"
   ]
  },
  {
   "cell_type": "code",
   "execution_count": null,
   "metadata": {},
   "outputs": [],
   "source": [
    "poi_df = gpd.read_file('data/POI.geojson')"
   ]
  },
  {
   "cell_type": "code",
   "execution_count": null,
   "metadata": {},
   "outputs": [],
   "source": [
    "poi_df = poi_df.drop(columns= poi_df.columns.difference([\"amenity\", \"bar\", \"brewery\", \"building\", \"construction:railway\", \"ferry\", \"healthcare\", \"public_transport\", \"railway\", \"station\", \"geometry\"]))"
   ]
  },
  {
   "cell_type": "code",
   "execution_count": null,
   "metadata": {},
   "outputs": [],
   "source": [
    "poi_df"
   ]
  },
  {
   "cell_type": "code",
   "execution_count": null,
   "metadata": {},
   "outputs": [],
   "source": [
    "taxi_df"
   ]
  },
  {
   "cell_type": "code",
   "execution_count": null,
   "metadata": {},
   "outputs": [],
   "source": [
    "census_tract_borders = census_tract_borders.drop(census_tract_borders.columns.difference(['GEOID', 'geometry']), axis=1)"
   ]
  },
  {
   "cell_type": "code",
   "execution_count": null,
   "metadata": {},
   "outputs": [],
   "source": [
    "unique_census_tract_id = np.append(taxi_df['pickup_census_tract'].unique(), taxi_df['dropoff_census_tract'].unique()).astype('str')\n",
    "census_tract_borders= census_tract_borders[census_tract_borders['GEOID'].isin(unique_census_tract_id)].reset_index(drop=True)\n",
    "census_tract_borders"
   ]
  },
  {
   "cell_type": "code",
   "execution_count": null,
   "metadata": {},
   "outputs": [],
   "source": [
    "def plotByFeatureStatic(dataframe, location='pickup', feature='all', aggregation='sum', missingCensusTract=False):\n",
    "    \"\"\" Plot a feature of a dataframe on a map.\n",
    "\n",
    "    Parameters\n",
    "    ----------\n",
    "\n",
    "    dataframe :  (pandas.DataFrame) \n",
    "        The dataframe to plot.\n",
    "    location : (str) \n",
    "        The location column of the dataframe. Can be either 'pickup' or 'dropoff'. Default is 'pickup'.\n",
    "    feature : (str) \n",
    "        The feature to aggregate. If 'all', all features are aggregated. Default is 'all'\n",
    "    aggregation : (str)  \n",
    "        The aggregation function to use. Can be either 'mean', 'median', 'sum', 'count', 'min', 'max'. Default is 'sum'.\n",
    "    containMissingCensusTract : (bool)\n",
    "        If True, census tracts with no data are included in the plot. Default is False.\n",
    "\n",
    "    Returns\n",
    "    ----------\n",
    "\n",
    "    dataframe_grouped : (geopandas.GeoDataFrame) \n",
    "        The geodataframe grouped by the location column and the feature column. Contains always a geometry column and trip_count column.\n",
    "    \"\"\"\n",
    "    dataframe_grouped = dataframe.copy()\n",
    "    dataframe_grouped.dropna(inplace = True)\n",
    "\n",
    "    if feature == 'all':\n",
    "        features = dataframe_grouped.columns.difference(['pickup_census_tract', 'dropoff_census_tract', 'pickup_centroid_location', 'dropoff_centroid_location', 'trip_start_timestamp', 'trip_end_timestamp', 'taxi_id']).tolist()\n",
    "    else:\n",
    "        features = [feature]\n",
    "    \n",
    "    if location == 'pickup':\n",
    "        features.append('pickup_census_tract')\n",
    "        features.append('pickup_centroid_location')\n",
    "        dataframe_grouped = dataframe_grouped.drop(columns=dataframe_grouped.columns.difference(features))\n",
    "    elif location == 'dropoff':\n",
    "        features.append('dropoff_census_tract')\n",
    "        features.append('dropoff_centroid_location')\n",
    "        dataframe_grouped = dataframe_grouped.drop(columns=dataframe_grouped.columns.difference(features))\n",
    "    else:\n",
    "        raise ValueError(\"Location must be either 'pickup' or 'dropoff'.\")\n",
    "    \n",
    "    dataframe_grouped['trip_count'] = dataframe_grouped[features[0]]\n",
    "    \n",
    "    dataframe_grouped = dataframe_grouped.groupby([location + '_census_tract', location + '_centroid_location']).agg(lambda column: column.agg('count') if column.name == 'trip_count' else column.agg(aggregation)).reset_index()\n",
    "    dataframe_grouped = dataframe_grouped.rename(columns={location + '_census_tract': 'GEOID'})\n",
    "    dataframe_grouped['GEOID'] = dataframe_grouped['GEOID'].astype('str')\n",
    "\n",
    "    if missingCensusTract == True:\n",
    "        dataframe_grouped = dataframe_grouped.merge(census_tract_borders, on='GEOID', how='right')\n",
    "        dataframe_grouped = gpd.GeoDataFrame(dataframe_grouped)\n",
    "        dataframe_grouped[location + '_centroid_location'] = dataframe_grouped['geometry'].to_crs('+proj=cea').centroid.to_crs('EPSG:4326')\n",
    "        dataframe_grouped['geometry'] = dataframe_grouped['geometry'].to_crs('EPSG:4326')\n",
    "    else:\n",
    "        dataframe_grouped = dataframe_grouped.merge(census_tract_borders, on='GEOID', how='left')\n",
    "        dataframe_grouped = gpd.GeoDataFrame(dataframe_grouped)\n",
    "        dataframe_grouped[location + '_centroid_location'] = dataframe_grouped['geometry'].to_crs('+proj=cea').centroid.to_crs('EPSG:4326')\n",
    "        dataframe_grouped['geometry'] = dataframe_grouped['geometry'].to_crs('EPSG:4326')\n",
    "\n",
    "    dataframe_grouped['poi_count'] = dataframe_grouped.apply(lambda row: row['geometry'].contains(poi_df['geometry']).sum(), axis=1)    \n",
    "    return dataframe_grouped\n"
   ]
  },
  {
   "cell_type": "code",
   "execution_count": null,
   "metadata": {},
   "outputs": [],
   "source": [
    "geo_df_taxi_pickup_sum = plotByFeatureStatic(taxi_df, missingCensusTract = True, feature='all', aggregation= \"sum\", location='pickup')"
   ]
  },
  {
   "cell_type": "code",
   "execution_count": null,
   "metadata": {},
   "outputs": [],
   "source": [
    "geo_df_taxi_pickup_sum[\"poi_count\"].sum()"
   ]
  },
  {
   "cell_type": "code",
   "execution_count": null,
   "metadata": {},
   "outputs": [],
   "source": [
    "poi_in_census_tract = gpd.sjoin(poi_df, geo_df_taxi_pickup_sum, how='inner', op='within')"
   ]
  },
  {
   "cell_type": "code",
   "execution_count": null,
   "metadata": {},
   "outputs": [],
   "source": [
    "loc = 'POI count by census tract pickup location logaritmic scale'\n",
    "title_html = '''\n",
    "             <h3 align=\"center\" style=\"font-size:16px\"><b>{}</b></h3>\n",
    "             '''.format(loc)   \n",
    "\n",
    "m = folium.Map(location=(41.8,-87.723177), zoom_start=11)\n",
    "\n",
    "m.get_root().html.add_child(folium.Element(title_html))\n",
    "geo_df_taxi_pickup_sum[geo_df_taxi_pickup_sum['poi_count'] > 0].explore(column=np.log10(geo_df_taxi_pickup_sum[geo_df_taxi_pickup_sum['poi_count'] > 0]['poi_count']), tooltip=True, cmap=\"viridis\", m = m, style_kwds = {\"opacity\": 0.2})\n",
    "poi_in_census_tract.explore(tooltip=True, cmap=\"viridis\", m = m, style_kwds = {\"opacity\": 0.3, \"red\": \"red\", \"fillOpacity\": 0.3, \"fillColor\": 'red'}, marker_kwds = {\"radius\": 3})"
   ]
  },
  {
   "cell_type": "code",
   "execution_count": null,
   "metadata": {},
   "outputs": [],
   "source": [
    "geo_df_taxi_dropoff_sum = plotByFeatureStatic(taxi_df, missingCensusTract = True, feature='all', aggregation= \"sum\", location='dropoff')"
   ]
  },
  {
   "cell_type": "code",
   "execution_count": null,
   "metadata": {},
   "outputs": [],
   "source": [
    "loc = 'Trip count by census tract pickup location logaritmic scale'\n",
    "title_html = '''\n",
    "             <h3 align=\"center\" style=\"font-size:16px\"><b>{}</b></h3>\n",
    "             '''.format(loc)   \n",
    "\n",
    "m = folium.Map(location=(41.8,-87.723177), zoom_start=11)\n",
    "\n",
    "m.get_root().html.add_child(folium.Element(title_html))\n",
    "geo_df_taxi_pickup_sum.explore(column=np.log10(geo_df_taxi_pickup_sum['trip_count']), tooltip=True, cmap=\"viridis\", m = m)"
   ]
  },
  {
   "cell_type": "code",
   "execution_count": null,
   "metadata": {},
   "outputs": [],
   "source": [
    "loc = 'Trip count by census tract dropoff location logaritmic scale'\n",
    "title_html = '''\n",
    "             <h3 align=\"center\" style=\"font-size:16px\"><b>{}</b></h3>\n",
    "             '''.format(loc)   \n",
    "\n",
    "m = folium.Map(location=(41.8,-87.723177), zoom_start=11)\n",
    "\n",
    "m.get_root().html.add_child(folium.Element(title_html))\n",
    "geo_df_taxi_dropoff_sum.explore(column=np.log10(geo_df_taxi_dropoff_sum['trip_count']), tooltip=True, cmap=\"viridis\", m = m)"
   ]
  },
  {
   "cell_type": "code",
   "execution_count": null,
   "metadata": {},
   "outputs": [],
   "source": [
    "# Placeholder\n",
    "loc = 'Trip total by census tract pickup location logarithmic scale'\n",
    "title_html = '''\n",
    "             <h3 align=\"center\" style=\"font-size:16px\"><b>{}</b></h3>\n",
    "             '''.format(loc)   \n",
    "\n",
    "m = folium.Map(location=(41.8,-87.723177), zoom_start=11)\n",
    "\n",
    "m.get_root().html.add_child(folium.Element(title_html))\n",
    "geo_df_taxi_pickup_sum.explore(column=np.log10(geo_df_taxi_pickup_sum['trip_total']), tooltip=True, cmap=\"viridis\", m = m)"
   ]
  },
  {
   "cell_type": "code",
   "execution_count": null,
   "metadata": {},
   "outputs": [],
   "source": [
    "fig, axd = plt.subplot_mosaic([['trip_total', 'trip_seconds'],\n",
    "                               ['trip_miles', 'idle_seconds'],\n",
    "                               ['trip_count', 'trip_count']],\n",
    "                              figsize=(18,30), layout=\"constrained\")\n",
    "fig.suptitle('Features plotted by census tract pickup location on a logarithmic scale', fontsize=16)\n",
    "geo_df_taxi_pickup_sum.plot(column=np.log10(geo_df_taxi_pickup_sum['trip_total']), cmap=\"viridis\", legend=True,missing_kwds={'color': 'lightgrey'}, ax=axd['trip_total'], legend_kwds={\"label\": \"Sum of Revenue (in dollar)\", \"orientation\": \"horizontal\"})\n",
    "geo_df_taxi_pickup_sum.plot(column=np.log10(geo_df_taxi_pickup_sum['trip_seconds']), cmap=\"viridis\", legend=True,missing_kwds={'color': 'lightgrey'}, ax=axd['trip_seconds'], legend_kwds={\"label\": \"Sum of trip time in seconds\", \"orientation\": \"horizontal\"})\n",
    "geo_df_taxi_pickup_sum.plot(column=np.log10(geo_df_taxi_pickup_sum['trip_miles']), cmap=\"viridis\", legend=True,missing_kwds={'color': 'lightgrey'}, ax=axd['trip_miles'], legend_kwds={\"label\": \"Sum of trip miles in seconds\", \"orientation\": \"horizontal\"})\n",
    "geo_df_taxi_pickup_sum[geo_df_taxi_pickup_sum['idle_seconds'] > 0].plot(column=np.log10(geo_df_taxi_pickup_sum[geo_df_taxi_pickup_sum['idle_seconds'] > 0]['idle_seconds']),  cmap=\"viridis\", legend=True,missing_kwds={'color': 'lightgrey'}, ax=axd['idle_seconds'], legend_kwds={\"label\": \"Sum of idle time in seconds\", \"orientation\": \"horizontal\"})\n",
    "geo_df_taxi_pickup_sum.plot(column=np.log10(geo_df_taxi_pickup_sum['trip_count']), cmap=\"viridis\", legend=True,missing_kwds={'color': 'lightgrey'}, ax=axd['trip_count'], legend_kwds={\"label\": \"Sum of Trips\", \"orientation\": \"horizontal\"})"
   ]
  },
  {
   "cell_type": "code",
   "execution_count": null,
   "metadata": {},
   "outputs": [],
   "source": [
    "geo_df_taxi_pickup_mean = plotByFeatureStatic(taxi_df, missingCensusTract = True, feature='all', aggregation= \"mean\", location='pickup')"
   ]
  },
  {
   "cell_type": "code",
   "execution_count": null,
   "metadata": {},
   "outputs": [],
   "source": [
    "fig, axd = plt.subplot_mosaic([['trip_total', 'trip_seconds'],\n",
    "                               ['trip_miles', 'idle_seconds'],\n",
    "                               ['trip_count', 'trip_count']],\n",
    "                              figsize=(18,30), layout=\"constrained\")\n",
    "fig.suptitle('Features plotted by census tract pickup location', fontsize=16)\n",
    "geo_df_taxi_pickup_mean.plot(column=geo_df_taxi_pickup_mean['trip_total'], cmap=\"viridis\", legend=True,missing_kwds={'color': 'lightgrey'},vmax= geo_df_taxi_pickup_mean['trip_total'].quantile(0.75), ax=axd['trip_total'], legend_kwds={\"label\": \"Sum of Revenue (in dollar)\", \"orientation\": \"horizontal\"})\n",
    "geo_df_taxi_pickup_mean.plot(column=geo_df_taxi_pickup_mean['trip_seconds'], cmap=\"viridis\", legend=True,missing_kwds={'color': 'lightgrey'},vmax= geo_df_taxi_pickup_mean['trip_seconds'].quantile(0.75), ax=axd['trip_seconds'], legend_kwds={\"label\": \"Sum of trip time in seconds\", \"orientation\": \"horizontal\"})\n",
    "geo_df_taxi_pickup_mean.plot(column=geo_df_taxi_pickup_mean['trip_miles'], cmap=\"viridis\", legend=True,missing_kwds={'color': 'lightgrey'},vmax= geo_df_taxi_pickup_mean['trip_miles'].quantile(0.75), ax=axd['trip_miles'], legend_kwds={\"label\": \"Sum of trip miles in seconds\", \"orientation\": \"horizontal\"})\n",
    "geo_df_taxi_pickup_mean[(geo_df_taxi_pickup_mean['idle_seconds'] > 0) | geo_df_taxi_pickup_mean['idle_seconds'].isna()].plot(column=geo_df_taxi_pickup_mean[(geo_df_taxi_pickup_mean['idle_seconds'] > 0) | geo_df_taxi_pickup_mean['idle_seconds'].isna()]['idle_seconds'],  cmap=\"viridis\", legend=True,missing_kwds={'color': 'lightgrey'},vmax= geo_df_taxi_pickup_mean['idle_seconds'].quantile(0.75), ax=axd['idle_seconds'], legend_kwds={\"label\": \"Sum of idle time in seconds\", \"orientation\": \"horizontal\"})\n",
    "geo_df_taxi_pickup_sum.plot(column=np.log10(geo_df_taxi_pickup_sum['trip_count']), cmap=\"viridis\", legend=True,missing_kwds={'color': 'lightgrey'}, ax=axd['trip_count'], legend_kwds={\"label\": \"Sum of Trips\", \"orientation\": \"horizontal\"})"
   ]
  },
  {
   "cell_type": "code",
   "execution_count": null,
   "metadata": {},
   "outputs": [],
   "source": [
    "# Create docstring for the following function\n",
    "def plotH3_HexagonMap(dataframe, location='pickup', feature='all', aggregation='sum', missingCensusTract=False, hexRes = 10):\n",
    "    \"\"\" Plot a feature of a dataframe on a map.\n",
    "\n",
    "    Parameters\n",
    "    ----------\n",
    "\n",
    "    dataframe :  (pandas.DataFrame) \n",
    "        The dataframe to plot.\n",
    "    location : (str) \n",
    "        The location column of the dataframe. Can be either 'pickup' or 'dropoff'. Default is 'pickup'.\n",
    "    feature : (str) \n",
    "        The feature to aggregate. If 'all', all features are aggregated. Default is 'all'\n",
    "    aggregation : (str)  \n",
    "        The aggregation function to use. Can be either 'mean', 'median', 'sum', 'count', 'min', 'max'. Default is 'sum'.\n",
    "    containMissingCensusTract : (bool)\n",
    "        If True, census tracts with no data are included in the plot. Default is False.\n",
    "    hexRes : (int)\n",
    "        H3 hexagon resolution size. Default is 10.\n",
    "    Returns\n",
    "    ----------\n",
    "\n",
    "    taxi_df_geo_grouped : (geopandas.GeoDataFrame) \n",
    "        The geodataframe grouped by the location column and the feature column. Contains always a geometry column and trip_count column.\n",
    "    \"\"\"\n",
    "    taxi_df_geo = plotByFeatureStatic(dataframe, location= location,feature = feature, aggregation = aggregation, missingCensusTract = missingCensusTract)\n",
    "    # geometry to h3 index\n",
    "    taxi_df_geo['h3_index'] = taxi_df_geo.apply(lambda row: h3.geo_to_h3(row[location + '_centroid_location'].y, row[location + '_centroid_location'].x, hexRes), axis=1)\n",
    "\n",
    "    geojson = []\n",
    "    geometries = []\n",
    "    indexes = []\n",
    "\n",
    "    for geometry in taxi_df_geo['geometry']:\n",
    "        geojson.append(shapely.to_geojson(geometry))\n",
    "\n",
    "    for geometry in geojson:\n",
    "        obj = json.loads(geometry)\n",
    "        h3_indexes = h3.polyfill(obj, hexRes ,True)\n",
    "        for index in h3_indexes:\n",
    "            geometries.append(shape({\"type\": \"Polygon\",\n",
    "                    \"coordinates\": [h3.h3_to_geo_boundary(index, geo_json=True)],\n",
    "                    \"properties\": \"\"\n",
    "                    }))\n",
    "            indexes.append(index)   \n",
    "    taxi_df_geo.drop(columns= ['geometry', 'pickup_centroid_location', 'GEOID'], inplace = True)\n",
    "    df_h3_polyfilled = pd.DataFrame({'h3_index': indexes})\n",
    "    taxi_df_geo_grouped = taxi_df_geo.groupby('h3_index').agg(aggregation).reset_index()\n",
    "    taxi_df_geo_grouped = taxi_df_geo_grouped.merge(df_h3_polyfilled, on='h3_index', how='outer')\n",
    "    taxi_df_geo_grouped['geometry'] = taxi_df_geo_grouped.apply(lambda row: shape({\"type\": \"Polygon\",\n",
    "                                           \"coordinates\": [h3.h3_to_geo_boundary(row[\"h3_index\"], geo_json=True)],\n",
    "                                           \"properties\": \"\"\n",
    "                                           }), axis=1)\n",
    "    taxi_df_geo_grouped.loc[taxi_df_geo_grouped['trip_count'] == 0,'trip_count'] = np.nan\n",
    "    taxi_df_geo_grouped.loc[taxi_df_geo_grouped['trip_miles'] == 0,'trip_miles'] = np.nan\n",
    "    taxi_df_geo_grouped.loc[taxi_df_geo_grouped['trip_seconds'] == 0,'trip_seconds'] = np.nan\n",
    "    taxi_df_geo_grouped.loc[taxi_df_geo_grouped['trip_total'] == 0,'trip_total'] = np.nan\n",
    "    taxi_df_geo_grouped = gpd.GeoDataFrame(taxi_df_geo_grouped, crs='EPSG:4326', geometry='geometry')\n",
    "\n",
    "    taxi_df_geo_grouped['poi_count'] = taxi_df_geo_grouped.apply(lambda row: row['geometry'].contains(poi_df['geometry']).sum(), axis=1)    \n",
    "    return taxi_df_geo_grouped\n"
   ]
  },
  {
   "cell_type": "code",
   "execution_count": null,
   "metadata": {},
   "outputs": [],
   "source": [
    "geo_df_taxi_h3_pickup_sum_res4 = plotH3_HexagonMap(taxi_df, location='pickup', feature='all', aggregation='sum', missingCensusTract=True, hexRes= 4)"
   ]
  },
  {
   "cell_type": "code",
   "execution_count": null,
   "metadata": {},
   "outputs": [],
   "source": [
    "loc = 'Trip count by h3 hexagon pickup location logaritmic scale'\n",
    "title_html = '''\n",
    "             <h3 align=\"center\" style=\"font-size:16px\"><b>{}</b></h3>\n",
    "             '''.format(loc)   \n",
    "\n",
    "m = folium.Map(location=(41.8,-87.723177), zoom_start=11)\n",
    "\n",
    "m.get_root().html.add_child(folium.Element(title_html))\n",
    "geo_df_taxi_h3_pickup_sum_res4.explore(column=geo_df_taxi_h3_pickup_sum_res4['trip_count'], vmax = geo_df_taxi_h3_pickup_sum_res4['trip_count'].quantile(0.75), tooltip=True, cmap=\"viridis\", m = m)"
   ]
  },
  {
   "cell_type": "code",
   "execution_count": null,
   "metadata": {},
   "outputs": [],
   "source": [
    "geo_df_taxi_h3_pickup_sum_res7 = plotH3_HexagonMap(taxi_df, location='pickup', feature='all', aggregation='sum', missingCensusTract=True, hexRes= 7)"
   ]
  },
  {
   "cell_type": "code",
   "execution_count": null,
   "metadata": {},
   "outputs": [],
   "source": [
    "# Placeholder\n",
    "loc = 'Trip total by h3 hexagon pickup location logarithmic scale'\n",
    "title_html = '''\n",
    "             <h3 align=\"center\" style=\"font-size:16px\"><b>{}</b></h3>\n",
    "             '''.format(loc)   \n",
    "\n",
    "m = folium.Map(location=(41.8,-87.723177), zoom_start=11)\n",
    "\n",
    "m.get_root().html.add_child(folium.Element(title_html))\n",
    "geo_df_taxi_h3_pickup_sum_res7.explore(column=np.log10(geo_df_taxi_h3_pickup_sum_res7['trip_total']), tooltip=True, cmap=\"viridis\", m = m)"
   ]
  },
  {
   "cell_type": "code",
   "execution_count": null,
   "metadata": {},
   "outputs": [],
   "source": [
    "geo_df_taxi_h3_pickup_sum_res8 = plotH3_HexagonMap(taxi_df, location='pickup', feature='all', aggregation='sum', missingCensusTract=True, hexRes= 8)"
   ]
  },
  {
   "cell_type": "code",
   "execution_count": null,
   "metadata": {},
   "outputs": [],
   "source": [
    "# Placeholder\n",
    "loc = 'Trip total by h3 hexagon pickup location logarithmic scale'\n",
    "title_html = '''\n",
    "             <h3 align=\"center\" style=\"font-size:16px\"><b>{}</b></h3>\n",
    "             '''.format(loc)   \n",
    "\n",
    "m = folium.Map(location=(41.8,-87.723177), zoom_start=11)\n",
    "\n",
    "m.get_root().html.add_child(folium.Element(title_html))\n",
    "geo_df_taxi_h3_pickup_sum_res8.explore(column=np.log10(geo_df_taxi_h3_pickup_sum_res8['trip_total']), tooltip=True, cmap=\"viridis\", m = m)"
   ]
  },
  {
   "cell_type": "code",
   "execution_count": null,
   "metadata": {},
   "outputs": [],
   "source": [
    "geo_df_taxi_h3_pickup_sum_res9 = plotH3_HexagonMap(taxi_df, location='pickup', feature='all', aggregation='sum', missingCensusTract=True, hexRes= 9)"
   ]
  },
  {
   "cell_type": "code",
   "execution_count": null,
   "metadata": {},
   "outputs": [],
   "source": [
    "# Placeholder\n",
    "loc = 'Trip total by h3 hexagon pickup location logarithmic scale'\n",
    "title_html = '''\n",
    "             <h3 align=\"center\" style=\"font-size:16px\"><b>{}</b></h3>\n",
    "             '''.format(loc)   \n",
    "\n",
    "m = folium.Map(location=(41.8,-87.723177), zoom_start=11)\n",
    "\n",
    "m.get_root().html.add_child(folium.Element(title_html))\n",
    "geo_df_taxi_h3_pickup_sum_res9.explore(column=np.log10(geo_df_taxi_h3_pickup_sum_res9['trip_total']), tooltip=True, cmap=\"viridis\", m = m)"
   ]
  },
  {
   "cell_type": "code",
   "execution_count": null,
   "metadata": {},
   "outputs": [],
   "source": [
    "# Placeholder\n",
    "loc = 'Trip total by census tract pickup location logarithmic scale'\n",
    "title_html = '''\n",
    "             <h3 align=\"center\" style=\"font-size:16px\"><b>{}</b></h3>\n",
    "             '''.format(loc)   \n",
    "\n",
    "m = folium.Map(location=(41.8,-87.723177), zoom_start=11)\n",
    "\n",
    "m.get_root().html.add_child(folium.Element(title_html))\n",
    "geo_df_taxi_h3_pickup_sum_res8.explore(column=np.log10(geo_df_taxi_h3_pickup_sum_res8['trip_total']), tooltip=True, cmap=\"viridis\", m = m)"
   ]
  },
  {
   "cell_type": "code",
   "execution_count": null,
   "metadata": {},
   "outputs": [],
   "source": [
    "fig, axd = plt.subplot_mosaic([['trip_total', 'trip_seconds'],\n",
    "                               ['trip_miles', 'idle_seconds'],\n",
    "                               ['trip_count', 'trip_count']],\n",
    "                              figsize=(18,30), layout=\"constrained\")\n",
    "fig.suptitle('Features plotted by census tract pickup location on a logarithmic scale', fontsize=16)\n",
    "geo_df_taxi_h3_pickup_sum_res8.plot(column=np.log10(geo_df_taxi_h3_pickup_sum_res8['trip_total']), cmap=\"viridis\", legend=True,missing_kwds={'color': 'lightgrey'}, ax=axd['trip_total'], legend_kwds={\"label\": \"Sum of Revenue (in dollar)\", \"orientation\": \"horizontal\"})\n",
    "geo_df_taxi_h3_pickup_sum_res8.plot(column=np.log10(geo_df_taxi_h3_pickup_sum_res8['trip_seconds']), cmap=\"viridis\", legend=True,missing_kwds={'color': 'lightgrey'}, ax=axd['trip_seconds'], legend_kwds={\"label\": \"Sum of trip time in seconds\", \"orientation\": \"horizontal\"})\n",
    "geo_df_taxi_h3_pickup_sum_res8.plot(column=np.log10(geo_df_taxi_h3_pickup_sum_res8['trip_miles']), cmap=\"viridis\", legend=True,missing_kwds={'color': 'lightgrey'}, ax=axd['trip_miles'], legend_kwds={\"label\": \"Sum of trip miles in seconds\", \"orientation\": \"horizontal\"})\n",
    "geo_df_taxi_h3_pickup_sum_res8[(geo_df_taxi_h3_pickup_sum_res8['idle_seconds'] > 0) | geo_df_taxi_h3_pickup_sum_res8['idle_seconds'].isna()].plot(column=np.log10(geo_df_taxi_h3_pickup_sum_res8[(geo_df_taxi_h3_pickup_sum_res8['idle_seconds'] > 0) | geo_df_taxi_h3_pickup_sum_res8['idle_seconds'].isna()]['idle_seconds']),  cmap=\"viridis\", legend=True,missing_kwds={'color': 'lightgrey'}, ax=axd['idle_seconds'], legend_kwds={\"label\": \"Sum of idle time in seconds\", \"orientation\": \"horizontal\"})\n",
    "geo_df_taxi_h3_pickup_sum_res8.plot(column=np.log10(geo_df_taxi_h3_pickup_sum_res8['trip_count']), cmap=\"viridis\", legend=True,missing_kwds={'color': 'lightgrey'}, ax=axd['trip_count'], legend_kwds={\"label\": \"Sum of Trips\", \"orientation\": \"horizontal\"})"
   ]
  },
  {
   "cell_type": "code",
   "execution_count": null,
   "metadata": {},
   "outputs": [],
   "source": [
    "geo_df_taxi_h3_pickup_mean_res8 = plotH3_HexagonMap(taxi_df, location='pickup', feature='all', aggregation='mean', missingCensusTract=True, hexRes= 8)"
   ]
  },
  {
   "cell_type": "code",
   "execution_count": null,
   "metadata": {},
   "outputs": [],
   "source": [
    "fig, axd = plt.subplot_mosaic([['trip_total', 'trip_seconds'],\n",
    "                               ['trip_miles', 'idle_seconds'],\n",
    "                               ['trip_count', 'trip_count']],\n",
    "                              figsize=(18,30), layout=\"constrained\")\n",
    "fig.suptitle('Features plotted by census tract pickup location', fontsize=16)\n",
    "geo_df_taxi_h3_pickup_mean_res8.plot(column=geo_df_taxi_h3_pickup_mean_res8['trip_total'], cmap=\"viridis\", legend=True,missing_kwds={'color': 'lightgrey'},vmax= geo_df_taxi_h3_pickup_mean_res8['trip_total'].quantile(0.75), ax=axd['trip_total'], legend_kwds={\"label\": \"Sum of Revenue (in dollar)\", \"orientation\": \"horizontal\"})\n",
    "geo_df_taxi_h3_pickup_mean_res8.plot(column=geo_df_taxi_h3_pickup_mean_res8['trip_seconds'], cmap=\"viridis\", legend=True,missing_kwds={'color': 'lightgrey'},vmax= geo_df_taxi_h3_pickup_mean_res8['trip_seconds'].quantile(0.75), ax=axd['trip_seconds'], legend_kwds={\"label\": \"Sum of trip time in seconds\", \"orientation\": \"horizontal\"})\n",
    "geo_df_taxi_h3_pickup_mean_res8.plot(column=geo_df_taxi_h3_pickup_mean_res8['trip_miles'], cmap=\"viridis\", legend=True,missing_kwds={'color': 'lightgrey'},vmax= geo_df_taxi_h3_pickup_mean_res8['trip_miles'].quantile(0.75), ax=axd['trip_miles'], legend_kwds={\"label\": \"Sum of trip miles in seconds\", \"orientation\": \"horizontal\"})\n",
    "geo_df_taxi_h3_pickup_mean_res8[(geo_df_taxi_h3_pickup_mean_res8['idle_seconds'] > 0) | geo_df_taxi_h3_pickup_mean_res8['idle_seconds'].isna()].plot(column=geo_df_taxi_h3_pickup_mean_res8[(geo_df_taxi_h3_pickup_mean_res8['idle_seconds'] > 0) | geo_df_taxi_h3_pickup_mean_res8['idle_seconds'].isna()]['idle_seconds'],  cmap=\"viridis\", legend=True,missing_kwds={'color': 'lightgrey'},vmax= geo_df_taxi_pickup_mean['idle_seconds'].quantile(0.75), ax=axd['idle_seconds'], legend_kwds={\"label\": \"Sum of idle time in seconds\", \"orientation\": \"horizontal\"})\n",
    "geo_df_taxi_h3_pickup_mean_res8.plot(column=np.log10(geo_df_taxi_h3_pickup_mean_res8['trip_count']), cmap=\"viridis\", legend=True,missing_kwds={'color': 'lightgrey'}, ax=axd['trip_count'], legend_kwds={\"label\": \"Sum of Trips\", \"orientation\": \"horizontal\"})"
   ]
  }
 ],
 "metadata": {
  "kernelspec": {
   "display_name": "Python 3 (ipykernel)",
   "language": "python",
   "name": "python3"
  },
  "language_info": {
   "codemirror_mode": {
    "name": "ipython",
    "version": 3
   },
   "file_extension": ".py",
   "mimetype": "text/x-python",
   "name": "python",
   "nbconvert_exporter": "python",
   "pygments_lexer": "ipython3",
   "version": "3.11.4"
  }
 },
 "nbformat": 4,
 "nbformat_minor": 2
}
