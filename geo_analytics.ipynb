{
 "cells": [
  {
   "cell_type": "markdown",
   "metadata": {},
   "source": [
    "# Geo analytics AAA - Intentionally Blank"
   ]
  },
  {
   "attachments": {},
   "cell_type": "markdown",
   "metadata": {},
   "source": [
    "Census_tracts_borders = https://data.cityofchicago.org/Facilities-Geographic-Boundaries/Boundaries-Census-Tracts-2010/5jrd-6zik\n",
    "https://www.census.gov/cgi-bin/geo/shapefiles/index.php?year=2016&layergroup=Census+Tracts"
   ]
  },
  {
   "cell_type": "code",
   "execution_count": null,
   "metadata": {},
   "outputs": [],
   "source": [
    "import json\n",
    "\n",
    "import pandas as pd\n",
    "import numpy as np\n",
    "\n",
    "import h3\n",
    "import geopandas as gpd\n",
    "import shapely\n",
    "from shapely.geometry import shape\n",
    "import plotly.express as px\n"
   ]
  },
  {
   "cell_type": "code",
   "execution_count": null,
   "metadata": {},
   "outputs": [],
   "source": [
    "taxi_df = pd.read_parquet('data/prepared/taxi_data_prepared.gzip')\n",
    "taxi_df['pickup_centroid_location'] = gpd.GeoSeries.from_wkt(taxi_df['pickup_centroid_location'])\n",
    "taxi_df['dropoff_centroid_location'] = gpd.GeoSeries.from_wkt(taxi_df['dropoff_centroid_location'])\n",
    "census_tract_borders = gpd.read_file('data/chicago_census_tract_borders.zip')"
   ]
  },
  {
   "cell_type": "code",
   "execution_count": null,
   "metadata": {},
   "outputs": [],
   "source": [
    "census_tract_borders = census_tract_borders.drop(census_tract_borders.columns.difference(['GEOID', 'geometry']), axis=1)"
   ]
  },
  {
   "cell_type": "code",
   "execution_count": null,
   "metadata": {},
   "outputs": [],
   "source": [
    "unique_census_tract_id = np.append(taxi_df['pickup_census_tract'].unique(), taxi_df['dropoff_census_tract'].unique()).astype('str')\n",
    "census_tract_borders= census_tract_borders[census_tract_borders['GEOID'].isin(unique_census_tract_id)].reset_index(drop=True)\n",
    "census_tract_borders"
   ]
  },
  {
   "cell_type": "code",
   "execution_count": null,
   "metadata": {},
   "outputs": [],
   "source": [
    "# Create docstring for the following function\n",
    "def plotByFeatureStatic(dataframe, location='pickup', feature='all', aggregation='sum', missingCensusTract=False):\n",
    "    \"\"\" Plot a feature of a dataframe on a map.\n",
    "\n",
    "    Parameters\n",
    "    ----------\n",
    "\n",
    "    dataframe :  (pandas.DataFrame) \n",
    "        The dataframe to plot.\n",
    "    location : (str) \n",
    "        The location column of the dataframe. Can be either 'pickup' or 'dropoff'. Default is 'pickup'.\n",
    "    feature : (str) \n",
    "        The feature to aggregate. If 'all', all features are aggregated. Default is 'all'\n",
    "    aggregation : (str)  \n",
    "        The aggregation function to use. Can be either 'mean', 'median', 'sum', 'count', 'min', 'max'. Default is 'sum'.\n",
    "    containMissingCensusTract : (bool)\n",
    "        If True, census tracts with no data are included in the plot. Default is False.\n",
    "\n",
    "    Returns\n",
    "    ----------\n",
    "\n",
    "    dataframe_grouped : (geopandas.GeoDataFrame) \n",
    "        The geodataframe grouped by the location column and the feature column. Contains always a geometry column and trip_count column.\n",
    "    \"\"\"\n",
    "    dataframe_grouped = dataframe.copy()\n",
    "    if feature == 'all':\n",
    "        features = dataframe_grouped.columns.difference(['pickup_census_tract', 'dropoff_census_tract', 'pickup_centroid_location', 'dropoff_centroid_location', 'trip_start_timestamp', 'trip_end_timestamp']).tolist()\n",
    "    else:\n",
    "        features = [feature]\n",
    "    \n",
    "    if location == 'pickup':\n",
    "        features.append('pickup_census_tract')\n",
    "        features.append('pickup_centroid_location')\n",
    "        dataframe_grouped = dataframe_grouped.drop(columns=dataframe_grouped.columns.difference(features))\n",
    "    elif location == 'dropoff':\n",
    "        features.append('dropoff_census_tract')\n",
    "        features.append('dropoff_centroid_location')\n",
    "        dataframe_grouped = dataframe_grouped.drop(columns=dataframe_grouped.columns.difference(features))\n",
    "    else:\n",
    "        raise ValueError(\"Location must be either 'pickup' or 'dropoff'.\")\n",
    "    \n",
    "    dataframe_grouped['trip_count'] = dataframe_grouped[features[0]]\n",
    "    dataframe_grouped = dataframe_grouped.groupby([location + '_census_tract', location + '_centroid_location']).agg(lambda column: column.agg('count') if column.name == 'trip_count' else column.agg(aggregation)).reset_index()\n",
    "    dataframe_grouped = dataframe_grouped.rename(columns={location + '_census_tract': 'GEOID'})\n",
    "    dataframe_grouped['GEOID'] = dataframe_grouped['GEOID'].astype('str')\n",
    "    if missingCensusTract == True:\n",
    "        dataframe_grouped = dataframe_grouped.merge(census_tract_borders, on='GEOID', how='right')\n",
    "        dataframe_grouped = gpd.GeoDataFrame(dataframe_grouped)\n",
    "        dataframe_grouped[location + '_centroid_location'] = dataframe_grouped['geometry'].to_crs('+proj=cea').centroid.to_crs('EPSG:4326')\n",
    "        dataframe_grouped = dataframe_grouped.fillna(0)\n",
    "    else:\n",
    "        dataframe_grouped = dataframe_grouped.merge(census_tract_borders, on='GEOID', how='left')\n",
    "        dataframe_grouped = gpd.GeoDataFrame(dataframe_grouped)\n",
    "    return dataframe_grouped\n"
   ]
  },
  {
   "cell_type": "code",
   "execution_count": null,
   "metadata": {},
   "outputs": [],
   "source": [
    "geo_df_trip_seconds = plotByFeatureStatic(taxi_df, missingCensusTract = True)\n",
    "geo_df_trip_seconds.explore(column='trip_count', tooltip=True, vmin=0, cmap='viridis')\n"
   ]
  },
  {
   "cell_type": "code",
   "execution_count": null,
   "metadata": {},
   "outputs": [],
   "source": [
    "geo_df_trip_seconds"
   ]
  },
  {
   "cell_type": "code",
   "execution_count": null,
   "metadata": {},
   "outputs": [],
   "source": [
    "# Create docstring for the following function\n",
    "def plotH3_HexagonMap(dataframe, location='pickup', feature='all', aggregation='sum', missingCensusTract=False, hexRes = 9):\n",
    "    \"\"\" Plot a feature of a dataframe on a map.\n",
    "\n",
    "    Parameters\n",
    "    ----------\n",
    "\n",
    "    dataframe :  (pandas.DataFrame) \n",
    "        The dataframe to plot.\n",
    "    location : (str) \n",
    "        The location column of the dataframe. Can be either 'pickup' or 'dropoff'. Default is 'pickup'.\n",
    "    feature : (str) \n",
    "        The feature to aggregate. If 'all', all features are aggregated. Default is 'all'\n",
    "    aggregation : (str)  \n",
    "        The aggregation function to use. Can be either 'mean', 'median', 'sum', 'count', 'min', 'max'. Default is 'sum'.\n",
    "    containMissingCensusTract : (bool)\n",
    "        If True, census tracts with no data are included in the plot. Default is False.\n",
    "    hexRes : (int)\n",
    "        H3 hexagon resolution size. Default is 10.\n",
    "    Returns\n",
    "    ----------\n",
    "\n",
    "    taxi_df_geo_grouped : (geopandas.GeoDataFrame) \n",
    "        The geodataframe grouped by the location column and the feature column. Contains always a geometry column and trip_count column.\n",
    "    \"\"\"\n",
    "    taxi_df_geo = plotByFeatureStatic(dataframe, location= location,feature = feature, aggregation = aggregation, missingCensusTract = missingCensusTract)\n",
    "    # geometry to h3 index\n",
    "    taxi_df_geo['h3_index'] = taxi_df_geo.apply(lambda row: h3.geo_to_h3(row[location + '_centroid_location'].y, row[location + '_centroid_location'].x, hexRes), axis=1)\n",
    "\n",
    "    geojson = []\n",
    "    geometries = []\n",
    "    indexes = []\n",
    "\n",
    "    for geometry in taxi_df_geo['geometry']:\n",
    "        geojson.append(shapely.to_geojson(geometry))\n",
    "\n",
    "    for geometry in geojson:\n",
    "        obj = json.loads(geometry)\n",
    "        h3_indexes = h3.polyfill(obj, hexRes ,True)\n",
    "        for index in h3_indexes:\n",
    "            geometries.append(shape({\"type\": \"Polygon\",\n",
    "                    \"coordinates\": [h3.h3_to_geo_boundary(index, geo_json=True)],\n",
    "                    \"properties\": \"\"\n",
    "                    }))\n",
    "            indexes.append(index)   \n",
    "    taxi_df_geo.drop(columns= ['geometry', 'pickup_centroid_location'], inplace = True)\n",
    "    df_h3_polyfilled = pd.DataFrame({'h3_index': indexes, 'geometry': geometries})\n",
    "    taxi_df_geo_grouped = taxi_df_geo.groupby('h3_index').agg(aggregation).reset_index()\n",
    "    taxi_df_geo_grouped = taxi_df_geo_grouped.merge(df_h3_polyfilled, on='h3_index', how='right')\n",
    "    taxi_df_geo_grouped = taxi_df_geo_grouped.fillna(0)\n",
    "    taxi_df_geo_grouped = gpd.GeoDataFrame(taxi_df_geo_grouped, crs='EPSG:4326')\n",
    "    return taxi_df_geo_grouped\n"
   ]
  },
  {
   "cell_type": "code",
   "execution_count": null,
   "metadata": {},
   "outputs": [],
   "source": [
    "plotH3_HexagonMap(taxi_df, location='pickup', feature='trip_seconds', aggregation='sum', missingCensusTract=True,hexRes= 8).explore(column='trip_seconds', tooltip=True, vmin=0, cmap='viridis')"
   ]
  },
  {
   "cell_type": "code",
   "execution_count": null,
   "metadata": {},
   "outputs": [],
   "source": [
    "# h3 index to geometry\n",
    "taxi_df_geo['geometry'] = taxi_df_geo[(taxi_df_geo['h3_index'].notna())].apply(lambda row: shape({\"type\": \"Polygon\",\n",
    "                                           \"coordinates\": [h3.h3_to_geo_boundary(row[\"h3_index\"], geo_json=True)],\n",
    "                                           \"properties\": \"\"\n",
    "                                           }), axis=1)\n",
    "taxi_df_geo_grouped = taxi_df_geo.groupby(['h3_index', 'geometry']).agg({'trip_seconds': 'sum', 'trip_miles': 'sum', 'trip_total': 'sum', 'trip_count': 'sum'}).reset_index()\n",
    "taxi_df_geo_grouped=gpd.GeoDataFrame(taxi_df_geo_grouped)\n",
    "taxi_df_geo_grouped.explore(column='trip_count', tooltip=True, vmin=0, cmap='viridis')"
   ]
  },
  {
   "cell_type": "code",
   "execution_count": null,
   "metadata": {},
   "outputs": [],
   "source": [
    "taxi_df_geo"
   ]
  },
  {
   "cell_type": "code",
   "execution_count": null,
   "metadata": {},
   "outputs": [],
   "source": [
    "taxi_df['hour'] = taxi_df['trip_start_timestamp'].dt.hour"
   ]
  },
  {
   "cell_type": "code",
   "execution_count": null,
   "metadata": {},
   "outputs": [],
   "source": [
    "#Group taxi_df by district and trip_start_timestamp\n",
    "taxi_df_groupedDistricts = taxi_df.groupby(['hour','pickup_census_tract'],).agg({'trip_seconds': 'sum', 'trip_miles': 'sum', 'trip_total': 'sum', 'dropoff_census_tract': 'count'}).reset_index()\n",
    "taxi_df_groupedDistricts.rename(columns={'dropoff_census_tract': 'trip_count'}, inplace=True)\n",
    "taxi_df_groupedDistricts[\"pickup_census_tract\"]=taxi_df_groupedDistricts[\"pickup_census_tract\"].astype(\"int64\").astype(\"str\")\n",
    "taxi_df_groupedDistricts['color'] = np.log10(taxi_df_groupedDistricts['trip_count'])\n",
    "taxi_df_groupedDistricts"
   ]
  },
  {
   "cell_type": "code",
   "execution_count": null,
   "metadata": {},
   "outputs": [],
   "source": [
    "#Group taxi_df by district and trip_start_timestamp\n",
    "taxi_df_groupedDistricts = taxi_df.groupby([ 'hour','pickup_census_tract'],).agg({'trip_seconds': 'sum', 'trip_miles': 'sum', 'trip_total': 'sum', 'dropoff_census_tract': 'count'}).reset_index()\n",
    "taxi_df_groupedDistricts.rename(columns={'dropoff_census_tract': 'trip_count'}, inplace=True)\n",
    "taxi_df_groupedDistricts[\"pickup_census_tract\"]=taxi_df_groupedDistricts[\"pickup_census_tract\"].astype(\"int64\").astype(\"str\")\n",
    "taxi_df_groupedDistricts['color'] = np.log10(taxi_df_groupedDistricts['trip_count'])\n",
    "taxi_df_groupedDistricts"
   ]
  },
  {
   "cell_type": "code",
   "execution_count": null,
   "metadata": {},
   "outputs": [],
   "source": [
    "viridis = px.colors.sequential.Viridis\n",
    "fig = px.choropleth_mapbox(taxi_df_groupedDistricts,\n",
    "                        geojson=census_tract_borders, \n",
    "                        locations=taxi_df_groupedDistricts.pickup_census_tract,\n",
    "                        featureidkey=\"properties.GEOID\",\n",
    "                        color='trip_count',\n",
    "                        animation_frame='hour',\n",
    "                        mapbox_style='open-street-map', \n",
    "                        zoom=10,\n",
    "                        color_continuous_scale=[\n",
    "                            [0, viridis[0]],\n",
    "                            [1./1000000, viridis[2]],\n",
    "                            [1./10000, viridis[4]],\n",
    "                            [1./100, viridis[7]],\n",
    "                            [1., viridis[9]],\n",
    "                        ],\n",
    "                        opacity=0.5, \n",
    "                        range_color=[0, 300000],\n",
    "                        center={'lat': 41.881832, 'lon': -87.623177},\n",
    "                        labels={'trip_count':'trip_count'},\n",
    "                        width=800,\n",
    "                        height=800)\n",
    "fig.show()"
   ]
  }
 ],
 "metadata": {
  "kernelspec": {
   "display_name": "Python 3 (ipykernel)",
   "language": "python",
   "name": "python3"
  },
  "language_info": {
   "codemirror_mode": {
    "name": "ipython",
    "version": 3
   },
   "file_extension": ".py",
   "mimetype": "text/x-python",
   "name": "python",
   "nbconvert_exporter": "python",
   "pygments_lexer": "ipython3",
   "version": "3.10.11"
  }
 },
 "nbformat": 4,
 "nbformat_minor": 2
}
